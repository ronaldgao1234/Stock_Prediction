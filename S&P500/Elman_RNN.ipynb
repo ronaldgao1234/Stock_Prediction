{
 "cells": [
  {
   "cell_type": "code",
   "execution_count": 23,
   "metadata": {
    "collapsed": true
   },
   "outputs": [],
   "source": [
    "import torch\n",
    "import numpy as np\n",
    "import pylab as pl\n",
    "import torch.nn.init as init\n",
    "\n",
    "# Online Guide: https://www.cpuheater.com/deep-learning/introduction-to-recurrent-neural-networks-in-pytorch/"
   ]
  },
  {
   "cell_type": "code",
   "execution_count": 102,
   "metadata": {
    "collapsed": true
   },
   "outputs": [],
   "source": [
    "dtype = torch.FloatTensor\n",
    "# since we're feeding our model with one data point at a time that is why we only need one input neuron\n",
    "input_size, hidden_size, output_size = 7, 6, 1 \n",
    "epochs = 300\n",
    "seq_length = 20 # length of input and target sequence\n",
    "lr = 0.1"
   ]
  },
  {
   "cell_type": "code",
   "execution_count": 103,
   "metadata": {},
   "outputs": [],
   "source": [
    "# Generate training data, where x is an input sequence and y is a target sequence\n",
    "data_time_steps = np.linspace(2, 10, seq_length+1)\n",
    "data = np.sin(data_time_steps)\n",
    "data.resize((seq_length + 1, 1))\n",
    "x = torch.tensor(data[:-1], requires_grad=False).type(dtype)\n",
    "y = torch.tensor(data[1:], requires_grad=False).type(dtype)"
   ]
  },
  {
   "cell_type": "code",
   "execution_count": 104,
   "metadata": {},
   "outputs": [
    {
     "data": {
      "text/plain": [
       "tensor([[-0.2768],\n",
       "        [ 0.2011],\n",
       "        [ 0.2209],\n",
       "        [-0.1825],\n",
       "        [-0.0669],\n",
       "        [-0.2074]], requires_grad=True)"
      ]
     },
     "execution_count": 104,
     "metadata": {},
     "output_type": "execute_result"
    }
   ],
   "source": [
    "w1 = torch.empty((input_size, hidden_size), requires_grad=True).type(dtype)\n",
    "init.normal_(w1, 0.0, 0.4)\n",
    "w2 = torch.empty((hidden_size, output_size), requires_grad=True).type(dtype)\n",
    "init.normal_(w2, 0.0, 0.3)"
   ]
  },
  {
   "cell_type": "code",
   "execution_count": 105,
   "metadata": {
    "collapsed": true
   },
   "outputs": [],
   "source": [
    "# Define a forward method\n",
    "def forward(input_, context_state, w1, w2):\n",
    "    xh = torch.cat((input_, context_state), dim=1)\n",
    "    context_state = torch.tanh(xh.mm(w1))\n",
    "    out = context_state.mm(w2)\n",
    "    return (out, context_state)"
   ]
  },
  {
   "cell_type": "code",
   "execution_count": 106,
   "metadata": {},
   "outputs": [
    {
     "data": {
      "text/plain": [
       "tensor([[ 0.2446,  0.6432,  0.1765, -0.3897, -0.0465, -0.1328]])"
      ]
     },
     "execution_count": 106,
     "metadata": {},
     "output_type": "execute_result"
    }
   ],
   "source": [
    "cs = torch.tensor([[ 0.2446,  0.6432,  0.1765, -0.3897, -0.0465, -0.1328]], requires_grad=False)\n",
    "cs.data"
   ]
  },
  {
   "cell_type": "code",
   "execution_count": 107,
   "metadata": {},
   "outputs": [
    {
     "name": "stdout",
     "output_type": "stream",
     "text": [
      "Epoch: 0 loss 4.000146865844727\n",
      "Epoch: 10 loss 0.3631530702114105\n",
      "Epoch: 20 loss 0.3520149290561676\n",
      "Epoch: 30 loss 0.3367551267147064\n",
      "Epoch: 40 loss 0.31770601868629456\n",
      "Epoch: 50 loss 0.2964634895324707\n",
      "Epoch: 60 loss 0.27447310090065\n",
      "Epoch: 70 loss 0.2523328959941864\n",
      "Epoch: 80 loss 0.22981032729148865\n",
      "Epoch: 90 loss 0.20630359649658203\n",
      "Epoch: 100 loss 0.181613489985466\n",
      "Epoch: 110 loss 0.15694163739681244\n",
      "Epoch: 120 loss 0.13516759872436523\n",
      "Epoch: 130 loss 0.11876698583364487\n",
      "Epoch: 140 loss 0.10744720697402954\n",
      "Epoch: 150 loss 0.09945892542600632\n",
      "Epoch: 160 loss 0.09370193630456924\n",
      "Epoch: 170 loss 0.08983954787254333\n",
      "Epoch: 180 loss 0.08762741833925247\n",
      "Epoch: 190 loss 0.08624716103076935\n",
      "Epoch: 200 loss 0.08400630950927734\n",
      "Epoch: 210 loss 0.0790984109044075\n",
      "Epoch: 220 loss 0.07132826745510101\n",
      "Epoch: 230 loss 0.0628870278596878\n",
      "Epoch: 240 loss 0.05642500892281532\n",
      "Epoch: 250 loss 0.05253501236438751\n",
      "Epoch: 260 loss 0.050155073404312134\n",
      "Epoch: 270 loss 0.0483369417488575\n",
      "Epoch: 280 loss 0.04671278968453407\n",
      "Epoch: 290 loss 0.045160602778196335\n"
     ]
    }
   ],
   "source": [
    "for i in range(epochs):\n",
    "    total_loss = 0\n",
    "    context_state = torch.zeros((1, hidden_size), requires_grad=True).type(dtype)\n",
    "    for j in range(x.shape[0]):\n",
    "        input_ = x[j:(j+1)]\n",
    "        target = y[j:(j+1)]\n",
    "        (preds, context_state) = forward(input_, context_state, w1 ,w2)\n",
    "        loss = (preds - target).pow(2).sum()/2\n",
    "        total_loss += loss\n",
    "        loss.backward()\n",
    "        w1.data -= lr * w1.grad.data\n",
    "        w2.data -= lr * w2.grad.data\n",
    "        w1.grad.data.zero_()\n",
    "        w2.grad.data.zero_()\n",
    "        context_state = context_state.data\n",
    "    if i % 10 == 0:\n",
    "        print(\"Epoch: {} loss {}\".format(i, total_loss.item()))"
   ]
  },
  {
   "cell_type": "code",
   "execution_count": 108,
   "metadata": {
    "collapsed": true
   },
   "outputs": [],
   "source": [
    "context_state = Variable(torch.zeros((1, hidden_size)).type(dtype), requires_grad=False)\n",
    "predictions = []\n",
    " \n",
    "for i in range(x.size(0)):\n",
    "    input_ = x[i:i+1]\n",
    "    (pred, context_state) = forward(input_, context_state, w1, w2)\n",
    "    context_state = context_state.data\n",
    "    predictions.append(pred.data.numpy().ravel()[0])"
   ]
  },
  {
   "cell_type": "code",
   "execution_count": 109,
   "metadata": {},
   "outputs": [
    {
     "data": {
      "image/png": "[encoded data removed]",
      "text/plain": [
       "<matplotlib.figure.Figure at 0x18e3158a4e0>"
      ]
     },
     "metadata": {},
     "output_type": "display_data"
    }
   ],
   "source": [
    "pl.scatter(data_time_steps[1:], y, s=90, label=\"Actual\")\n",
    "pl.scatter(data_time_steps[1:], predictions, label=\"Predicted\")\n",
    "pl.legend()\n",
    "pl.show()"
   ]
  },
  {
   "cell_type": "code",
   "execution_count": null,
   "metadata": {
    "collapsed": true
   },
   "outputs": [],
   "source": []
  }
 ],
 "metadata": {
  "kernelspec": {
   "display_name": "Python 3",
   "language": "python",
   "name": "python3"
  },
  "language_info": {
   "codemirror_mode": {
    "name": "ipython",
    "version": 3
   },
   "file_extension": ".py",
   "mimetype": "text/x-python",
   "name": "python",
   "nbconvert_exporter": "python",
   "pygments_lexer": "ipython3",
   "version": "3.6.3"
  },
  "toc": {
   "base_numbering": 1,
   "nav_menu": {},
   "number_sections": true,
   "sideBar": true,
   "skip_h1_title": false,
   "title_cell": "Table of Contents",
   "title_sidebar": "Contents",
   "toc_cell": false,
   "toc_position": {},
   "toc_section_display": true,
   "toc_window_display": false
  },
  "varInspector": {
   "cols": {
    "lenName": 16,
    "lenType": 16,
    "lenVar": 40
   },
   "kernels_config": {
    "python": {
     "delete_cmd_postfix": "",
     "delete_cmd_prefix": "del ",
     "library": "var_list.py",
     "varRefreshCmd": "print(var_dic_list())"
    },
    "r": {
     "delete_cmd_postfix": ") ",
     "delete_cmd_prefix": "rm(",
     "library": "var_list.r",
     "varRefreshCmd": "cat(var_dic_list()) "
    }
   },
   "types_to_exclude": [
    "module",
    "function",
    "builtin_function_or_method",
    "instance",
    "_Feature"
   ],
   "window_display": false
  }
 },
 "nbformat": 4,
 "nbformat_minor": 2
}
