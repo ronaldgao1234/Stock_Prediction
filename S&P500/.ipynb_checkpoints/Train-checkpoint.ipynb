{
 "cells": [
  {
   "cell_type": "code",
   "execution_count": 1,
   "metadata": {
    "collapsed": true
   },
   "outputs": [],
   "source": [
    "%reload_ext autoreload\n",
    "%autoreload 2\n",
    "%matplotlib inline"
   ]
  },
  {
   "cell_type": "code",
   "execution_count": 16,
   "metadata": {},
   "outputs": [],
   "source": [
    "from imports import *\n",
    "from torch_imports import *\n",
    "from plots import *"
   ]
  },
  {
   "cell_type": "markdown",
   "metadata": {},
   "source": [
    "# Data Collection/Cleaning/Preprocessing"
   ]
  },
  {
   "cell_type": "markdown",
   "metadata": {},
   "source": [
    "## Imports\n",
    "- Given OHLC, we're going to be predicting the closing prices"
   ]
  },
  {
   "cell_type": "code",
   "execution_count": 3,
   "metadata": {
    "collapsed": true
   },
   "outputs": [],
   "source": [
    "df = pd.read_csv('data/data.csv')"
   ]
  },
  {
   "cell_type": "code",
   "execution_count": 4,
   "metadata": {},
   "outputs": [
    {
     "data": {
      "text/html": [
       "<div>\n",
       "<style scoped>\n",
       "    .dataframe tbody tr th:only-of-type {\n",
       "        vertical-align: middle;\n",
       "    }\n",
       "\n",
       "    .dataframe tbody tr th {\n",
       "        vertical-align: top;\n",
       "    }\n",
       "\n",
       "    .dataframe thead th {\n",
       "        text-align: right;\n",
       "    }\n",
       "</style>\n",
       "<table border=\"1\" class=\"dataframe\">\n",
       "  <thead>\n",
       "    <tr style=\"text-align: right;\">\n",
       "      <th></th>\n",
       "      <th>Date</th>\n",
       "      <th>Open</th>\n",
       "      <th>High</th>\n",
       "      <th>Low</th>\n",
       "      <th>Close</th>\n",
       "      <th>Adj Close</th>\n",
       "      <th>Volume</th>\n",
       "    </tr>\n",
       "  </thead>\n",
       "  <tbody>\n",
       "    <tr>\n",
       "      <th>0</th>\n",
       "      <td>1950-01-03</td>\n",
       "      <td>16.66</td>\n",
       "      <td>16.66</td>\n",
       "      <td>16.66</td>\n",
       "      <td>16.66</td>\n",
       "      <td>16.66</td>\n",
       "      <td>1260000</td>\n",
       "    </tr>\n",
       "    <tr>\n",
       "      <th>1</th>\n",
       "      <td>1950-01-04</td>\n",
       "      <td>16.85</td>\n",
       "      <td>16.85</td>\n",
       "      <td>16.85</td>\n",
       "      <td>16.85</td>\n",
       "      <td>16.85</td>\n",
       "      <td>1890000</td>\n",
       "    </tr>\n",
       "    <tr>\n",
       "      <th>2</th>\n",
       "      <td>1950-01-05</td>\n",
       "      <td>16.93</td>\n",
       "      <td>16.93</td>\n",
       "      <td>16.93</td>\n",
       "      <td>16.93</td>\n",
       "      <td>16.93</td>\n",
       "      <td>2550000</td>\n",
       "    </tr>\n",
       "    <tr>\n",
       "      <th>3</th>\n",
       "      <td>1950-01-06</td>\n",
       "      <td>16.98</td>\n",
       "      <td>16.98</td>\n",
       "      <td>16.98</td>\n",
       "      <td>16.98</td>\n",
       "      <td>16.98</td>\n",
       "      <td>2010000</td>\n",
       "    </tr>\n",
       "    <tr>\n",
       "      <th>4</th>\n",
       "      <td>1950-01-09</td>\n",
       "      <td>17.08</td>\n",
       "      <td>17.08</td>\n",
       "      <td>17.08</td>\n",
       "      <td>17.08</td>\n",
       "      <td>17.08</td>\n",
       "      <td>2520000</td>\n",
       "    </tr>\n",
       "  </tbody>\n",
       "</table>\n",
       "</div>"
      ],
      "text/plain": [
       "         Date   Open   High    Low  Close  Adj Close   Volume\n",
       "0  1950-01-03  16.66  16.66  16.66  16.66      16.66  1260000\n",
       "1  1950-01-04  16.85  16.85  16.85  16.85      16.85  1890000\n",
       "2  1950-01-05  16.93  16.93  16.93  16.93      16.93  2550000\n",
       "3  1950-01-06  16.98  16.98  16.98  16.98      16.98  2010000\n",
       "4  1950-01-09  17.08  17.08  17.08  17.08      17.08  2520000"
      ]
     },
     "execution_count": 4,
     "metadata": {},
     "output_type": "execute_result"
    }
   ],
   "source": [
    "df.head()"
   ]
  },
  {
   "cell_type": "markdown",
   "metadata": {},
   "source": [
    "## Understand the data"
   ]
  },
  {
   "cell_type": "code",
   "execution_count": 20,
   "metadata": {
    "scrolled": true
   },
   "outputs": [
    {
     "data": {
      "image/png": "[encoded data removed]",
      "text/plain": [
       "<matplotlib.figure.Figure at 0x22ffee78668>"
      ]
     },
     "metadata": {},
     "output_type": "display_data"
    }
   ],
   "source": [
    "plot_ohlc(df)"
   ]
  },
  {
   "cell_type": "markdown",
   "metadata": {
    "heading_collapsed": true
   },
   "source": [
    "## Missing Values"
   ]
  },
  {
   "cell_type": "code",
   "execution_count": null,
   "metadata": {
    "collapsed": true,
    "hidden": true
   },
   "outputs": [],
   "source": [
    "plot_missing_in_features(df)"
   ]
  },
  {
   "cell_type": "markdown",
   "metadata": {
    "hidden": true
   },
   "source": [
    "no missing values in any features"
   ]
  },
  {
   "cell_type": "markdown",
   "metadata": {
    "heading_collapsed": true
   },
   "source": [
    "## Features\n",
    "\n",
    "Besides date, everything is ordinal"
   ]
  },
  {
   "cell_type": "markdown",
   "metadata": {},
   "source": [
    "## Split\n",
    "- Option 1: Use 25% of last training data as validation set\n",
    "- Option 2: Use the same length of time period as the test case uses \n",
    "- Sorta Option 3: sorta like kfold cross val. but a nested cv for sure\n",
    "    - https://towardsdatascience.com/time-series-nested-cross-validation-76adba623eb9"
   ]
  },
  {
   "cell_type": "code",
   "execution_count": 5,
   "metadata": {},
   "outputs": [
    {
     "name": "stdout",
     "output_type": "stream",
     "text": [
      "11328 3776\n"
     ]
    }
   ],
   "source": [
    "# For now use Option 1\n",
    "trn_size = len(df) - int(.25 * len(df))\n",
    "val_idx = range(trn_size, len(df))     # get tail end of df\n",
    "trn_idx = range(trn_size)\n",
    "val = df.iloc[val_idx,]\n",
    "trn = df.iloc[trn_idx,]\n",
    "print(len(trn), len(val))\n",
    "# dropping Date just for neural networks\n",
    "# trn_X = trn.drop(['Date','Close'],axis=1)\n",
    "# trn_y = trn['Close']\n",
    "# val_X = val.drop(['Date', 'Close'],axis=1)\n",
    "# val_y = val['Close']"
   ]
  },
  {
   "cell_type": "markdown",
   "metadata": {
    "heading_collapsed": true
   },
   "source": [
    "## Standardize and normalize\n",
    "\n",
    "- Since its NN should use batchnorm\n",
    "- don't forget to standardize and normalize test data with same mapper"
   ]
  },
  {
   "cell_type": "code",
   "execution_count": 24,
   "metadata": {
    "collapsed": true,
    "hidden": true
   },
   "outputs": [],
   "source": [
    "# # Normalize range to 0-1\n",
    "# from sklearn.preprocessing import MinMaxScaler\n",
    "# trn_norm_data = trn_X.copy()\n",
    "# val_norm_data = val_X.copy()\n",
    "# scaler = MinMaxScaler(feature_range=(0,1))\n",
    "# scaler = scaler.fit(trn_norm_data)\n",
    "# trn_norm_X = scaler.transform(trn_norm_data)\n",
    "# val_norm_X = scaler.transform(val_norm_data)"
   ]
  },
  {
   "cell_type": "code",
   "execution_count": 25,
   "metadata": {
    "collapsed": true,
    "hidden": true
   },
   "outputs": [],
   "source": [
    "# # Standardize\n",
    "# from sklearn.preprocessing import StandardScaler\n",
    "# norm_data = trn_X.copy()\n",
    "# scaler = StandardScaler()\n",
    "# scaler = scaler.fit(norm_data)\n",
    "# norm_data = scaler.transform(norm_data)"
   ]
  },
  {
   "cell_type": "markdown",
   "metadata": {},
   "source": [
    "# Custom Dataset for Dataloader"
   ]
  },
  {
   "cell_type": "code",
   "execution_count": 6,
   "metadata": {
    "collapsed": true
   },
   "outputs": [],
   "source": [
    "class StockDataset(Dataset):\n",
    "    def __init__(self, X, y):\n",
    "        self.X = X.astype(np.float32)\n",
    "        y = y.astype(np.float32)\n",
    "        self.y = y[:, np.newaxis]\n",
    "        \n",
    "    def __getitem__(self, index):\n",
    "        return self.X[index], self.y[index]\n",
    "    \n",
    "    def __len__(self):\n",
    "        return len(self.X)"
   ]
  },
  {
   "cell_type": "markdown",
   "metadata": {},
   "source": [
    "# Train"
   ]
  },
  {
   "cell_type": "code",
   "execution_count": 7,
   "metadata": {
    "collapsed": true
   },
   "outputs": [],
   "source": [
    "from sklearn.preprocessing import StandardScaler"
   ]
  },
  {
   "cell_type": "code",
   "execution_count": 43,
   "metadata": {
    "collapsed": true
   },
   "outputs": [],
   "source": [
    "class Trainer():\n",
    "    def __init__(self, md, live_plot=False):\n",
    "        (self.trn_dl, self.val_dl) = md.data\n",
    "        self.liveplot = None\n",
    "        self.final_preds = dict()  # key is epoch, and value is the epoch's preds\n",
    "#         if plot: \n",
    "#             %matplotlib notebook\n",
    "#             self.liveplot = LivePlotNotebook()    no live plot yet\n",
    "        \n",
    "    def train(self, model, n_epochs, opt, crit, mom=0.98, plot_result=False):\n",
    "        avg_mom = mom\n",
    "        avg_loss = 0\n",
    "        trn_loss, val_loss = [], []\n",
    "        \n",
    "        model_stepper = Stepper(model, opt, crit)\n",
    "        b = False\n",
    "        for epoch in tnrange(n_epochs, desc=\"Training\"):\n",
    "            batch_num = 0\n",
    "            model_stepper.reset(True) # turns training attribute on \n",
    "            t = tqdm(iter(self.trn_dl), leave=False, total=len(self.trn_dl), miniters=0)\n",
    "            for (X, y) in t:\n",
    "                batch_num += 1\n",
    "                loss = model_stepper.step(X, y, epoch)\n",
    "                avg_loss = avg_loss * avg_mom + loss * (1-avg_mom)\n",
    "                debias_loss = avg_loss / (1 - avg_mom**batch_num)\n",
    "                t.set_postfix(loss=debias_loss, refresh=False)\n",
    "                t.set_description(\"Epoch \" + str(epoch + 1))\n",
    "            trn_loss.append(debias_loss)\n",
    "\n",
    "            self.final_preds[epoch + 1], batch_cnts, loss = [], [], np.asarray([])\n",
    "            with torch.no_grad():\n",
    "                t = tqdm(iter(self.val_dl), leave=False, total=(len(self.val_dl)), miniters=0)\n",
    "                for (X,y) in t:\n",
    "                    preds, l = model_stepper.evaluate(X, y)\n",
    "                    self.final_preds[epoch+1] = np.append(self.final_preds[epoch+1], to_np(preds).flatten())\n",
    "                    batch_cnts.append(X[0].shape[0])  # append the batch size\n",
    "                    loss.append(l)\n",
    "                val_loss.append(np.average(loss, 0, weights=batch_cnts))\n",
    "#         print(len(val_loss), len(trn_loss))\n",
    "#             if self.liveplot:\n",
    "#                 self.liveplot.update(\n",
    "#                     trn_loss=trn_loss,\n",
    "#                     val_loss=val_loss\n",
    "#                 )\n",
    "        if plot_result:\n",
    "            plt.plot(trn_loss)\n",
    "            plt.plot(val_loss)\n",
    "            plt.legend(['Train', 'Val'], loc=\"upper right\")\n",
    "            plt.show()\n",
    "#             print(\"Epoch [{}/{}], MSE Train Loss: {:.4f}, MSE Val Loss: {:.4f}\"\n",
    "#                   .format(epoch+1, n_epochs, trn_loss , val_loss))\n",
    "        return self.final_preds\n"
   ]
  },
  {
   "cell_type": "markdown",
   "metadata": {},
   "source": [
    "# Trying different networks"
   ]
  },
  {
   "cell_type": "code",
   "execution_count": 12,
   "metadata": {
    "collapsed": true
   },
   "outputs": [],
   "source": [
    "from networks import *"
   ]
  },
  {
   "cell_type": "markdown",
   "metadata": {},
   "source": [
    "## One Layer Neural Network"
   ]
  },
  {
   "cell_type": "code",
   "execution_count": 88,
   "metadata": {},
   "outputs": [
    {
     "name": "stdout",
     "output_type": "stream",
     "text": [
      "<class 'torch.Tensor'> torch.Size([1, 5])\n",
      "<class 'torch.Tensor'> torch.Size([1])\n"
     ]
    }
   ],
   "source": [
    "m = OneLayerNeuralNetwork(input_size=5, output_size=1)\n",
    "for p in m.parameters():\n",
    "    print(type(p.data), p.size())"
   ]
  },
  {
   "cell_type": "code",
   "execution_count": 44,
   "metadata": {
    "scrolled": true
   },
   "outputs": [
    {
     "data": {
      "application/vnd.jupyter.widget-view+json": {
       "model_id": "32d031d679f8468ca6c52a71b4e4f4ea",
       "version_major": 2,
       "version_minor": 0
      },
      "text/plain": [
       "HBox(children=(IntProgress(value=0, description='Training', max=10), HTML(value='')))"
      ]
     },
     "metadata": {},
     "output_type": "display_data"
    },
    {
     "data": {
      "application/vnd.jupyter.widget-view+json": {
       "model_id": "",
       "version_major": 2,
       "version_minor": 0
      },
      "text/plain": [
       "HBox(children=(IntProgress(value=0, max=354), HTML(value='')))"
      ]
     },
     "metadata": {},
     "output_type": "display_data"
    },
    {
     "data": {
      "application/vnd.jupyter.widget-view+json": {
       "model_id": "",
       "version_major": 2,
       "version_minor": 0
      },
      "text/plain": [
       "HBox(children=(IntProgress(value=0, max=118), HTML(value='')))"
      ]
     },
     "metadata": {},
     "output_type": "display_data"
    },
    {
     "data": {
      "application/vnd.jupyter.widget-view+json": {
       "model_id": "",
       "version_major": 2,
       "version_minor": 0
      },
      "text/plain": [
       "HBox(children=(IntProgress(value=0, max=354), HTML(value='')))"
      ]
     },
     "metadata": {},
     "output_type": "display_data"
    },
    {
     "data": {
      "application/vnd.jupyter.widget-view+json": {
       "model_id": "",
       "version_major": 2,
       "version_minor": 0
      },
      "text/plain": [
       "HBox(children=(IntProgress(value=0, max=118), HTML(value='')))"
      ]
     },
     "metadata": {},
     "output_type": "display_data"
    },
    {
     "data": {
      "application/vnd.jupyter.widget-view+json": {
       "model_id": "",
       "version_major": 2,
       "version_minor": 0
      },
      "text/plain": [
       "HBox(children=(IntProgress(value=0, max=354), HTML(value='')))"
      ]
     },
     "metadata": {},
     "output_type": "display_data"
    },
    {
     "data": {
      "application/vnd.jupyter.widget-view+json": {
       "model_id": "",
       "version_major": 2,
       "version_minor": 0
      },
      "text/plain": [
       "HBox(children=(IntProgress(value=0, max=118), HTML(value='')))"
      ]
     },
     "metadata": {},
     "output_type": "display_data"
    },
    {
     "data": {
      "application/vnd.jupyter.widget-view+json": {
       "model_id": "",
       "version_major": 2,
       "version_minor": 0
      },
      "text/plain": [
       "HBox(children=(IntProgress(value=0, max=354), HTML(value='')))"
      ]
     },
     "metadata": {},
     "output_type": "display_data"
    },
    {
     "data": {
      "application/vnd.jupyter.widget-view+json": {
       "model_id": "",
       "version_major": 2,
       "version_minor": 0
      },
      "text/plain": [
       "HBox(children=(IntProgress(value=0, max=118), HTML(value='')))"
      ]
     },
     "metadata": {},
     "output_type": "display_data"
    },
    {
     "data": {
      "application/vnd.jupyter.widget-view+json": {
       "model_id": "",
       "version_major": 2,
       "version_minor": 0
      },
      "text/plain": [
       "HBox(children=(IntProgress(value=0, max=354), HTML(value='')))"
      ]
     },
     "metadata": {},
     "output_type": "display_data"
    },
    {
     "data": {
      "application/vnd.jupyter.widget-view+json": {
       "model_id": "",
       "version_major": 2,
       "version_minor": 0
      },
      "text/plain": [
       "HBox(children=(IntProgress(value=0, max=118), HTML(value='')))"
      ]
     },
     "metadata": {},
     "output_type": "display_data"
    },
    {
     "data": {
      "application/vnd.jupyter.widget-view+json": {
       "model_id": "",
       "version_major": 2,
       "version_minor": 0
      },
      "text/plain": [
       "HBox(children=(IntProgress(value=0, max=354), HTML(value='')))"
      ]
     },
     "metadata": {},
     "output_type": "display_data"
    },
    {
     "data": {
      "application/vnd.jupyter.widget-view+json": {
       "model_id": "",
       "version_major": 2,
       "version_minor": 0
      },
      "text/plain": [
       "HBox(children=(IntProgress(value=0, max=118), HTML(value='')))"
      ]
     },
     "metadata": {},
     "output_type": "display_data"
    },
    {
     "data": {
      "application/vnd.jupyter.widget-view+json": {
       "model_id": "",
       "version_major": 2,
       "version_minor": 0
      },
      "text/plain": [
       "HBox(children=(IntProgress(value=0, max=354), HTML(value='')))"
      ]
     },
     "metadata": {},
     "output_type": "display_data"
    },
    {
     "data": {
      "application/vnd.jupyter.widget-view+json": {
       "model_id": "",
       "version_major": 2,
       "version_minor": 0
      },
      "text/plain": [
       "HBox(children=(IntProgress(value=0, max=118), HTML(value='')))"
      ]
     },
     "metadata": {},
     "output_type": "display_data"
    },
    {
     "data": {
      "application/vnd.jupyter.widget-view+json": {
       "model_id": "",
       "version_major": 2,
       "version_minor": 0
      },
      "text/plain": [
       "HBox(children=(IntProgress(value=0, max=354), HTML(value='')))"
      ]
     },
     "metadata": {},
     "output_type": "display_data"
    },
    {
     "data": {
      "application/vnd.jupyter.widget-view+json": {
       "model_id": "",
       "version_major": 2,
       "version_minor": 0
      },
      "text/plain": [
       "HBox(children=(IntProgress(value=0, max=118), HTML(value='')))"
      ]
     },
     "metadata": {},
     "output_type": "display_data"
    },
    {
     "data": {
      "application/vnd.jupyter.widget-view+json": {
       "model_id": "",
       "version_major": 2,
       "version_minor": 0
      },
      "text/plain": [
       "HBox(children=(IntProgress(value=0, max=354), HTML(value='')))"
      ]
     },
     "metadata": {},
     "output_type": "display_data"
    },
    {
     "data": {
      "application/vnd.jupyter.widget-view+json": {
       "model_id": "",
       "version_major": 2,
       "version_minor": 0
      },
      "text/plain": [
       "HBox(children=(IntProgress(value=0, max=118), HTML(value='')))"
      ]
     },
     "metadata": {},
     "output_type": "display_data"
    },
    {
     "data": {
      "application/vnd.jupyter.widget-view+json": {
       "model_id": "",
       "version_major": 2,
       "version_minor": 0
      },
      "text/plain": [
       "HBox(children=(IntProgress(value=0, max=354), HTML(value='')))"
      ]
     },
     "metadata": {},
     "output_type": "display_data"
    },
    {
     "data": {
      "application/vnd.jupyter.widget-view+json": {
       "model_id": "",
       "version_major": 2,
       "version_minor": 0
      },
      "text/plain": [
       "HBox(children=(IntProgress(value=0, max=118), HTML(value='')))"
      ]
     },
     "metadata": {},
     "output_type": "display_data"
    },
    {
     "name": "stdout",
     "output_type": "stream",
     "text": [
      "\n"
     ]
    },
    {
     "data": {
      "image/png": "[encoded data removed]",
      "text/plain": [
       "<matplotlib.figure.Figure at 0x22f86d80e10>"
      ]
     },
     "metadata": {},
     "output_type": "display_data"
    }
   ],
   "source": [
    "# %matplotlib notebook\n",
    "from imports import *\n",
    "from torch_imports import *\n",
    "\n",
    "if __name__ == '__main__':\n",
    "    md = ModelData(trn=trn, val=val, y='Close', drop=['Date'], ds=StockDataset, op=StandardScaler())\n",
    "    md.makeDataLoaders(bs=32, shuffle=True, num_workers=0)\n",
    "    model = OneLayerNeuralNetwork(input_size=5, output_size=1)\n",
    "    opt = optim.SGD(model.parameters(), lr=.1)\n",
    "    NN1_trainer = Trainer(md)\n",
    "    preds = NN1_trainer.train(model, n_epochs=10, opt=opt, crit=F.mse_loss, plot_result=True)"
   ]
  },
  {
   "cell_type": "code",
   "execution_count": 46,
   "metadata": {},
   "outputs": [
    {
     "data": {
      "text/plain": [
       "array([], dtype=float64)"
      ]
     },
     "execution_count": 46,
     "metadata": {},
     "output_type": "execute_result"
    }
   ],
   "source": [
    "np.asarray([])"
   ]
  },
  {
   "cell_type": "code",
   "execution_count": 45,
   "metadata": {},
   "outputs": [
    {
     "data": {
      "text/plain": [
       "[array([1543.9714 ,  632.83655, 1235.8063 , 1473.8217 , 1111.9387 ,\n",
       "        1474.5072 , 1376.2301 ,  756.4235 ,  998.20135, 1472.358  ,\n",
       "        1090.5425 , 1349.0332 ,  613.34033,  927.65137, 1189.1553 ,\n",
       "        1336.9077 , 1403.082  , 1178.2753 , 1443.2885 ,  667.64526,\n",
       "        1537.4247 ,  740.8201 , 1260.3965 ,  787.8464 , 1442.9192 ,\n",
       "        1450.3829 ,  997.1016 , 1153.4423 ,  988.7762 ,  925.08563,\n",
       "         509.09113,  656.83295], dtype=float32),\n",
       " array([1444.6302 , 1381.9725 , 1246.2339 , 1075.7705 , 1129.6511 ,\n",
       "        1043.662  , 1249.4379 , 1262.4265 ,  667.26434, 1293.629  ,\n",
       "        1170.8422 ,  682.9515 , 1135.8627 , 1418.6124 ,  736.77747,\n",
       "        1110.3892 , 1218.4559 , 1119.338  , 1009.70715, 1055.3068 ,\n",
       "         688.65753,  495.73114, 1458.861  ,  639.07904,  799.94147,\n",
       "         961.01746, 1397.765  , 1135.3152 , 1523.5963 , 1259.3136 ,\n",
       "        1226.6654 , 1195.1978 ], dtype=float32),\n",
       " array([ 830.07007,  875.3652 ,  894.2533 ,  485.25262,  857.9378 ,\n",
       "        1068.4773 ,  575.8704 ,  938.11005, 1354.213  ,  583.07336,\n",
       "        1029.2175 ,  641.2672 , 1205.5457 , 1257.4232 , 1162.4808 ,\n",
       "        1210.0753 ,  574.455  ,  633.62476, 1126.918  , 1515.3514 ,\n",
       "        1186.1775 , 1040.7563 ,  934.7673 ,  653.80347, 1397.3389 ,\n",
       "        1115.4357 , 1393.807  , 1393.327  , 1325.2423 , 1092.7444 ,\n",
       "        1260.9624 ,  654.7266 ], dtype=float32),\n",
       " array([1323.443  , 1128.387  , 1191.0941 , 1135.1752 , 1151.7063 ,\n",
       "         991.82526, 1382.4664 , 1374.2826 , 1474.4557 , 1183.6678 ,\n",
       "        1388.2395 , 1269.4929 , 1041.8965 ,  969.60016,  994.43634,\n",
       "        1280.399  , 1251.7736 ,  768.9738 ,  876.3288 , 1199.2875 ,\n",
       "         990.6236 ,  957.53937, 1195.1486 , 1181.6176 ,  666.8483 ,\n",
       "        1216.799  , 1111.517  , 1301.1146 , 1145.5895 , 1260.7793 ,\n",
       "         869.4455 ,  769.27356], dtype=float32),\n",
       " array([1482.359  , 1179.1099 ,  522.8426 , 1203.852  ,  881.3355 ,\n",
       "         948.71576, 1130.8094 ,  469.88422, 1280.2877 ,  589.66504,\n",
       "        1320.3612 ,  958.87445,  617.3221 , 1230.6979 , 1449.83   ,\n",
       "         847.3227 , 1124.4954 , 1232.1559 , 1034.6942 , 1389.0128 ,\n",
       "        1104.5854 , 1234.5502 , 1037.2794 ,  567.3648 ,  764.44745,\n",
       "         671.14526, 1155.7906 , 1215.7853 , 1140.5339 , 1102.7108 ,\n",
       "         895.98663, 1166.1047 ], dtype=float32),\n",
       " array([ 915.0277 , 1025.7477 , 1196.8231 ,  887.62994,  750.26764,\n",
       "        1417.2369 , 1210.6897 , 1265.1406 ,  638.81134, 1197.2721 ,\n",
       "         784.98846, 1023.61896, 1323.3562 , 1327.0435 , 1416.2091 ,\n",
       "         980.1508 ,  526.57446,  614.0936 , 1308.916  ,  513.6234 ,\n",
       "         638.4986 , 1110.7094 , 1515.8369 , 1525.2994 , 1424.6866 ,\n",
       "        1271.8406 , 1261.7924 , 1094.7172 , 1397.8666 ,  905.4956 ,\n",
       "        1300.2325 , 1239.4845 ], dtype=float32),\n",
       " array([ 832.4997 ,  966.64374, 1073.6797 , 1083.0481 ,  664.15704,\n",
       "        1113.1378 ,  801.59814, 1151.8511 , 1241.1188 , 1333.2823 ,\n",
       "         984.71857,  505.62238,  638.86945,  653.35675, 1141.8215 ,\n",
       "        1089.403  ,  911.8913 ,  965.5821 ,  506.55896, 1422.4713 ,\n",
       "        1174.4498 , 1144.1475 , 1265.7013 , 1090.3607 , 1318.6465 ,\n",
       "        1252.2941 , 1262.078  , 1139.1207 ,  893.8121 , 1075.5068 ,\n",
       "         972.18933, 1222.2601 ], dtype=float32),\n",
       " array([1069.8984 , 1265.0563 ,  970.4261 ,  818.9302 , 1390.4915 ,\n",
       "         913.7037 , 1353.8143 , 1186.1671 , 1169.1293 ,  932.9517 ,\n",
       "        1129.7454 , 1369.8536 ,  894.99054, 1185.1503 , 1155.2136 ,\n",
       "        1513.9282 , 1181.4254 ,  506.6834 , 1510.4008 , 1178.8903 ,\n",
       "        1368.3102 ,  582.4802 ,  950.156  , 1017.06903, 1187.597  ,\n",
       "        1292.1885 , 1172.9579 , 1125.1748 , 1068.1562 , 1099.3336 ,\n",
       "         667.34937, 1095.0679 ], dtype=float32),\n",
       " array([ 879.56683,  840.7863 , 1069.4204 , 1246.9364 , 1334.6498 ,\n",
       "        1103.2549 , 1149.0441 , 1285.423  ,  683.2178 ,  924.3203 ,\n",
       "         577.3074 , 1403.3143 , 1040.8196 , 1361.596  ,  977.72675,\n",
       "         982.084  , 1066.117  ,  997.0706 , 1223.4388 , 1113.1827 ,\n",
       "        1292.9742 ,  782.21576, 1088.2147 , 1506.7384 , 1415.6615 ,\n",
       "        1430.056  ,  836.445  , 1031.9761 , 1333.391  , 1236.2125 ,\n",
       "        1385.0692 ,  586.80237], dtype=float32),\n",
       " array([1247.6562 ,  559.27014,  593.20734, 1085.0172 ,  738.8067 ,\n",
       "        1337.213  , 1153.6903 ,  618.5789 ,  582.3787 ,  739.93506,\n",
       "        1189.1779 , 1109.7421 ,  870.712  , 1130.6969 , 1411.9359 ,\n",
       "        1184.7101 , 1308.8295 , 1073.9994 , 1119.9158 , 1375.6708 ,\n",
       "        1100.7018 ,  612.51385, 1412.5408 , 1164.9348 , 1428.9988 ,\n",
       "        1115.5927 , 1217.3169 , 1402.8242 , 1277.3848 ,  922.08484,\n",
       "         909.01196, 1093.8285 ], dtype=float32),\n",
       " array([1175.4689 , 1131.0155 ,  946.7567 , 1415.7924 , 1019.8066 ,\n",
       "        1148.0602 ,  831.476  , 1105.6256 , 1308.8345 ,  643.0026 ,\n",
       "        1198.3446 ,  685.1827 ,  564.28595, 1119.8995 ,  934.0091 ,\n",
       "        1397.4249 , 1002.4102 , 1452.9113 , 1292.34   , 1496.5878 ,\n",
       "         881.4273 , 1266.0775 , 1377.8143 , 1247.0721 ,  485.2107 ,\n",
       "        1105.6471 ,  823.5722 , 1235.8334 , 1339.0894 ,  890.0892 ,\n",
       "        1171.497  , 1359.213  ], dtype=float32),\n",
       " array([ 744.4084 ,  706.62665, 1033.053  , 1428.631  , 1475.0963 ,\n",
       "         836.45135,  903.57477,  924.77484, 1422.8363 , 1401.7804 ,\n",
       "         696.44556, 1254.6823 ,  970.81226,  994.67377, 1181.8779 ,\n",
       "        1141.2686 , 1103.3123 , 1418.6022 ,  481.46954, 1475.5289 ,\n",
       "        1301.2784 , 1132.793  , 1195.3917 , 1245.0592 , 1069.9861 ,\n",
       "        1125.8722 , 1105.5831 , 1364.9366 ,  701.5849 , 1059.2665 ,\n",
       "        1481.7487 , 1304.5819 ], dtype=float32),\n",
       " array([ 862.4019 ,  562.6731 ,  899.9126 ,  756.53485,  653.5744 ,\n",
       "        1223.0082 , 1240.6444 , 1161.8821 ,  911.3832 , 1556.996  ,\n",
       "        1399.4103 , 1223.316  ,  852.38837, 1272.055  ,  942.76276,\n",
       "         592.2898 , 1081.5438 , 1414.3427 , 1272.1855 , 1184.2006 ,\n",
       "        1173.7694 , 1125.19   , 1133.9948 , 1089.641  , 1161.8463 ,\n",
       "        1215.2399 ,  938.8167 , 1443.7155 , 1206.9164 ,  918.10077,\n",
       "        1323.5062 ,  649.4305 ], dtype=float32),\n",
       " array([1216.8627 ,  982.9842 ,  815.7    ,  912.01917,  921.13763,\n",
       "        1134.806  , 1210.938  , 1191.6981 , 1382.8315 , 1097.3962 ,\n",
       "        1068.3073 , 1177.8834 ,  619.8605 , 1431.7297 ,  601.2695 ,\n",
       "        1152.8063 ,  993.84717,  734.2083 , 1319.9606 , 1321.9025 ,\n",
       "         671.55426, 1045.8276 , 1017.3353 ,  825.34155, 1517.2948 ,\n",
       "         677.2283 , 1159.6857 , 1112.7421 , 1012.46967,  958.7785 ,\n",
       "        1134.0436 ,  832.41534], dtype=float32),\n",
       " array([ 833.2663 , 1393.5732 , 1386.1274 ,  572.0797 , 1434.9132 ,\n",
       "        1255.5494 , 1321.6368 , 1066.0817 , 1303.6685 ,  987.60486,\n",
       "        1400.621  , 1184.2363 , 1196.7999 , 1138.9304 ,  994.004  ,\n",
       "        1423.1031 , 1058.2762 ,  869.5236 , 1123.5297 ,  779.5453 ,\n",
       "        1052.2811 , 1186.0547 , 1107.2365 ,  911.96967, 1270.2819 ,\n",
       "        1295.92   , 1534.4288 , 1185.8009 , 1290.8092 , 1394.1034 ,\n",
       "         752.43866,  957.7054 ], dtype=float32),\n",
       " array([ 905.97064,  585.3984 ,  604.22766, 1435.4983 , 1293.6482 ,\n",
       "         797.75665, 1161.9503 , 1378.9163 ,  798.20013, 1111.9757 ,\n",
       "         607.37866,  738.6546 ,  860.5655 , 1188.7308 , 1430.4103 ,\n",
       "         661.79504, 1287.8875 , 1065.8303 ,  926.3421 , 1361.7131 ,\n",
       "        1139.7651 , 1465.928  , 1338.2985 , 1380.058  , 1171.1781 ,\n",
       "        1210.722  , 1385.2483 ,  666.9931 ,  998.55023, 1155.2039 ,\n",
       "        1355.4847 ,  855.44574], dtype=float32),\n",
       " array([ 746.9316 ,  648.9511 ,  578.4848 ,  900.0846 ,  952.3652 ,\n",
       "        1384.5609 ,  753.73444, 1300.3026 ,  980.3903 , 1191.5774 ,\n",
       "        1419.449  , 1074.8568 ,  678.59796, 1074.3586 ,  582.99835,\n",
       "        1134.8428 , 1185.1863 , 1115.6512 ,  943.4074 ,  696.0883 ,\n",
       "         617.3759 ,  941.1038 , 1190.1892 , 1070.548  ,  856.6309 ,\n",
       "         839.7829 , 1222.8234 , 1475.9797 , 1317.9215 , 1422.4302 ,\n",
       "        1129.9337 , 1266.7185 ], dtype=float32),\n",
       " array([1274.8119 , 1126.7474 ,  973.12396,  932.56537, 1524.9835 ,\n",
       "        1428.7838 ,  813.1501 , 1342.1202 ,  798.0846 , 1279.248  ,\n",
       "        1255.8148 ,  955.7487 ,  826.7963 , 1008.02313, 1451.965  ,\n",
       "        1301.2704 , 1429.0099 , 1211.3074 ,  650.41455, 1427.8768 ,\n",
       "        1400.4371 ,  891.8642 ,  513.1829 ,  918.2833 ,  894.51556,\n",
       "        1532.3302 ,  972.4898 ,  771.8386 ,  470.1106 , 1038.5493 ,\n",
       "        1498.45   , 1447.5946 ], dtype=float32),\n",
       " array([ 512.7852 , 1188.0323 , 1445.6129 , 1150.1423 ,  723.98224,\n",
       "        1004.4677 , 1221.6368 , 1237.7313 ,  835.9094 , 1357.2819 ,\n",
       "        1425.6631 , 1096.2944 ,  753.8979 , 1303.9021 , 1068.869  ,\n",
       "        1066.374  ,  857.7144 , 1334.4117 , 1118.5498 ,  964.01337,\n",
       "        1133.4689 , 1115.8248 , 1527.9791 , 1004.3732 , 1415.6794 ,\n",
       "         991.05426, 1091.821  , 1072.8196 , 1207.9703 ,  614.70825,\n",
       "        1382.5371 , 1240.8317 ], dtype=float32),\n",
       " array([1094.4032 ,  949.19086, 1249.0792 ,  705.8224 , 1288.4703 ,\n",
       "        1118.1361 ,  616.6896 , 1452.186  , 1309.3597 , 1298.0591 ,\n",
       "         631.928  , 1348.97   , 1302.9982 , 1223.5765 , 1457.3966 ,\n",
       "         898.2841 , 1168.789  ,  815.97345, 1206.3813 , 1280.5422 ,\n",
       "         876.2082 , 1001.46356, 1455.5494 , 1454.3678 ,  651.8421 ,\n",
       "        1243.1849 ,  984.32697, 1067.1779 , 1090.8517 ,  872.7164 ,\n",
       "        1253.8657 ,  790.4124 ], dtype=float32),\n",
       " array([ 922.7085 , 1515.3014 ,  888.7605 ,  942.6393 , 1369.2667 ,\n",
       "        1352.0646 ,  926.6731 , 1229.0483 , 1056.9182 , 1056.3154 ,\n",
       "        1102.023  , 1488.2023 ,  958.15424,  843.43365,  841.2354 ,\n",
       "         731.35114, 1039.1738 ,  664.733  ,  904.20013,  907.48254,\n",
       "        1307.3878 ,  676.25726,  915.62115, 1310.4633 , 1188.046  ,\n",
       "        1415.0282 , 1453.7356 ,  657.79816,  912.17017,  933.3942 ,\n",
       "        1039.4706 , 1216.8226 ], dtype=float32),\n",
       " array([1190.878  , 1464.6254 , 1450.152  ,  952.41644, 1092.8502 ,\n",
       "        1132.0438 , 1423.5309 , 1497.6519 , 1137.8558 , 1074.7617 ,\n",
       "        1338.5721 , 1355.5575 ,  484.2594 , 1398.3658 ,  675.5098 ,\n",
       "         970.3596 ,  557.7853 , 1422.4896 , 1529.5294 , 1180.2804 ,\n",
       "         698.28876,  895.8221 , 1144.75   , 1324.7845 , 1008.5129 ,\n",
       "         950.0844 , 1529.8785 ,  906.30585, 1255.1117 , 1366.422  ,\n",
       "        1518.8505 , 1110.499  ], dtype=float32),\n",
       " array([1233.3427 , 1141.7537 ,  913.27826, 1434.3986 , 1311.1417 ,\n",
       "        1405.7953 ,  978.1923 , 1010.3769 , 1505.0377 ,  939.6826 ,\n",
       "         826.6069 ,  925.77655, 1103.745  , 1396.3829 , 1130.042  ,\n",
       "        1095.5122 , 1108.1934 ,  504.2834 , 1143.3052 , 1463.4235 ,\n",
       "        1434.4342 ,  946.06824,  915.4924 ,  936.54785, 1127.9227 ,\n",
       "        1288.4762 , 1313.2029 , 1237.2181 ,  588.4505 ,  977.552  ,\n",
       "        1152.614  , 1114.1543 ], dtype=float32),\n",
       " array([1399.0253 , 1450.485  ,  901.5157 , 1247.5533 , 1351.045  ,\n",
       "         582.1522 , 1193.341  , 1219.1246 ,  853.1324 , 1507.0431 ,\n",
       "        1287.7513 , 1320.4829 , 1216.2748 , 1199.5917 ,  750.1441 ,\n",
       "         918.6878 , 1490.306  ,  481.42407, 1047.3022 ,  987.65753,\n",
       "        1357.5873 , 1268.9867 , 1148.2919 , 1110.4084 ,  973.15704,\n",
       "         895.33234, 1528.0438 , 1517.6085 , 1311.5049 ,  989.2558 ,\n",
       "         890.1828 ,  871.13995], dtype=float32),\n",
       " array([1179.9159 , 1342.6554 , 1500.6758 ,  944.233  , 1054.2565 ,\n",
       "        1438.035  , 1534.9915 , 1431.2098 , 1175.9492 , 1070.1426 ,\n",
       "        1306.0367 , 1270.3226 ,  862.95605, 1275.6974 , 1245.4513 ,\n",
       "         622.1672 ,  928.54926,  659.297  , 1401.0521 , 1223.8705 ,\n",
       "        1290.1769 , 1356.9213 , 1096.322  ,  785.2258 , 1406.3558 ,\n",
       "         960.7528 , 1359.0607 , 1239.338  , 1308.7537 , 1036.212  ,\n",
       "         774.81256, 1088.1088 ], dtype=float32),\n",
       " array([ 535.3624 , 1390.1832 , 1355.9623 , 1112.8556 ,  676.56415,\n",
       "        1361.8722 , 1112.8112 , 1523.7614 , 1196.9176 , 1450.5956 ,\n",
       "         874.8782 , 1031.6233 , 1161.2518 ,  839.007  , 1491.5033 ,\n",
       "        1330.2314 , 1104.8851 , 1125.0792 , 1155.7322 , 1199.7509 ,\n",
       "        1219.7651 , 1402.6616 , 1176.7635 ,  522.22876, 1280.817  ,\n",
       "         897.27374,  827.4171 , 1270.5729 , 1170.5292 ,  505.0699 ,\n",
       "        1289.8768 , 1386.3278 ], dtype=float32),\n",
       " array([ 923.83624, 1136.1731 ,  728.9607 , 1095.9628 ,  934.49805,\n",
       "        1449.7279 ,  511.20355, 1386.6416 ,  924.9304 , 1023.1755 ,\n",
       "         857.38367, 1474.181  , 1412.8193 ,  746.2134 , 1295.319  ,\n",
       "        1284.1594 , 1409.7399 , 1356.6525 , 1020.9985 , 1266.1783 ,\n",
       "         914.42413,  909.22675, 1383.8436 ,  787.6408 , 1324.3988 ,\n",
       "        1125.7382 , 1362.7854 ,  984.73676, 1398.6703 , 1232.4508 ,\n",
       "        1234.475  ,  507.44952], dtype=float32),\n",
       " array([ 984.43933, 1322.877  , 1123.3242 ,  995.1187 ,  848.6506 ,\n",
       "        1341.3497 , 1106.2616 , 1088.0481 , 1515.7303 ,  820.4992 ,\n",
       "        1110.2941 ,  930.9315 , 1130.8348 , 1172.7799 , 1205.2924 ,\n",
       "        1096.31   , 1358.0199 , 1286.0619 , 1106.3699 , 1266.0425 ,\n",
       "         528.49005, 1144.165  , 1303.12   ,  628.19226, 1137.005  ,\n",
       "        1406.9021 , 1156.4806 ,  582.0902 , 1228.4169 , 1127.2004 ,\n",
       "        1454.5997 ,  586.791  ], dtype=float32),\n",
       " array([1338.0958 , 1001.63837, 1299.1471 , 1365.3036 , 1513.6051 ,\n",
       "        1354.8334 , 1153.9741 , 1297.8651 , 1119.0496 , 1284.3938 ,\n",
       "         651.83374, 1423.7063 ,  896.4803 ,  636.94867,  661.5622 ,\n",
       "        1085.9725 , 1300.6787 , 1462.599  , 1375.8027 , 1468.7396 ,\n",
       "        1290.4854 ,  963.1097 , 1239.7845 ,  917.3094 , 1369.1107 ,\n",
       "         661.5544 ,  894.88666, 1445.5924 ,  924.4312 ,  599.6283 ,\n",
       "        1502.248  , 1300.6022 ], dtype=float32),\n",
       " array([1446.1813 , 1154.2468 ,  924.01483,  503.4859 , 1001.9803 ,\n",
       "        1017.0797 , 1217.3173 , 1260.2959 , 1114.5739 , 1514.8444 ,\n",
       "        1320.4    , 1120.7241 , 1428.5155 , 1383.1461 , 1317.2823 ,\n",
       "        1193.8021 , 1111.7823 , 1414.1606 , 1407.8673 ,  943.4715 ,\n",
       "        1427.7081 ,  663.72455, 1410.531  ,  937.2137 ,  492.38208,\n",
       "        1331.8881 , 1371.9803 ,  912.70294,  791.55914, 1052.9376 ,\n",
       "        1070.8396 , 1143.2306 ], dtype=float32),\n",
       " array([1117.5532 , 1424.4966 ,  720.18256, 1001.95416, 1111.5759 ,\n",
       "        1460.0068 , 1283.2543 ,  954.8527 ,  534.2989 ,  663.5949 ,\n",
       "        1472.0255 , 1158.0725 ,  939.4932 , 1024.4224 ,  811.75726,\n",
       "        1083.7489 , 1073.7085 , 1094.7324 , 1478.848  , 1057.467  ,\n",
       "         838.7991 , 1073.6875 ,  641.5254 ,  930.3647 ,  935.107  ,\n",
       "        1340.8677 ,  941.8525 ,  870.0597 , 1134.6124 , 1222.8202 ,\n",
       "         655.76984,  923.14825], dtype=float32),\n",
       " array([1388.0868 , 1278.7766 ,  965.45917, 1212.8256 , 1210.6349 ,\n",
       "        1460.2577 , 1420.6781 , 1399.0336 ,  754.6901 , 1310.9808 ,\n",
       "         861.438  , 1283.6926 ,  977.2372 ,  671.6342 ,  966.8442 ,\n",
       "        1315.6532 , 1011.7012 ,  899.0026 ,  560.65186, 1499.3077 ,\n",
       "        1050.282  , 1427.3917 ,  836.94775, 1181.2655 , 1112.6533 ,\n",
       "        1106.3309 , 1429.7169 ,  649.99805,  995.8173 ,  587.862  ,\n",
       "        1082.5197 , 1242.6216 ], dtype=float32),\n",
       " array([1096.7445 , 1018.43036,  907.2868 , 1103.9645 ,  998.50867,\n",
       "         919.158  , 1262.3185 , 1171.8143 ,  907.58185, 1251.2081 ,\n",
       "        1481.9452 ,  826.9924 ,  780.0296 ,  873.2187 , 1060.2443 ,\n",
       "        1005.63074,  559.1931 ,  859.8569 ,  985.04193, 1198.3751 ,\n",
       "        1121.9438 ,  954.45123, 1457.7765 , 1486.0109 , 1030.4509 ,\n",
       "        1345.6107 , 1304.0172 , 1025.9502 , 1432.341  ,  600.3389 ,\n",
       "         921.20996, 1420.6068 ], dtype=float32),\n",
       " array([ 485.61102, 1278.9462 , 1431.1947 ,  930.2784 ,  928.103  ,\n",
       "        1273.0829 , 1316.9164 , 1188.3704 , 1276.5101 ,  901.1905 ,\n",
       "        1144.7715 , 1026.7231 , 1326.3778 ,  500.8534 , 1439.1233 ,\n",
       "        1332.3561 , 1142.7651 , 1364.1973 , 1488.1539 ,  908.8389 ,\n",
       "        1382.3468 , 1341.0239 , 1229.3402 ,  599.2552 , 1335.1984 ,\n",
       "         886.4909 ,  621.13995,  662.03754, 1490.6622 ,  668.8582 ,\n",
       "         944.90607, 1279.4196 ], dtype=float32),\n",
       " array([1034.2161 , 1268.1947 , 1004.99915, 1235.2374 , 1256.6766 ,\n",
       "        1501.231  , 1237.8097 , 1123.2125 , 1384.4261 ,  744.54596,\n",
       "        1272.3221 , 1146.9832 ,  557.9239 , 1108.6619 , 1156.8761 ,\n",
       "         585.5017 , 1207.5665 , 1221.6747 , 1447.4076 , 1438.0985 ,\n",
       "        1382.3263 ,  556.8239 , 1202.3588 ,  883.9263 ,  561.57434,\n",
       "        1294.8252 ,  776.8809 ,  759.64996,  524.83685,  982.94574,\n",
       "        1313.517  , 1091.9846 ], dtype=float32),\n",
       " array([1037.7755 ,  530.59644, 1349.5228 , 1050.5205 , 1052.4279 ,\n",
       "         483.15747,  944.0849 ,  855.95184, 1009.77313, 1457.417  ,\n",
       "        1066.9675 , 1440.7675 , 1468.364  , 1132.401  ,  645.9051 ,\n",
       "        1359.8192 , 1012.8973 , 1282.0118 , 1405.3901 , 1449.6583 ,\n",
       "        1547.517  , 1349.0804 , 1104.395  , 1156.3999 , 1096.6686 ,\n",
       "         533.4442 ,  703.7317 ,  784.94403, 1209.1906 ,  494.41583,\n",
       "        1457.8352 , 1131.9564 ], dtype=float32),\n",
       " array([ 669.4223 , 1415.8031 , 1485.7577 ,  926.6778 , 1168.252  ,\n",
       "         978.55786, 1134.0187 ,  892.1192 ,  687.2205 , 1480.9904 ,\n",
       "        1157.6177 ,  807.0566 , 1300.5522 , 1333.9199 , 1424.7717 ,\n",
       "         914.6097 ,  852.28784, 1239.5514 , 1140.4067 ,  929.9079 ,\n",
       "         468.59344,  920.8715 , 1306.2921 , 1507.8629 ,  899.7406 ,\n",
       "        1148.5294 ,  891.0099 , 1519.0393 ,  800.9007 ,  703.4841 ,\n",
       "        1474.7279 ,  880.7231 ], dtype=float32),\n",
       " array([1324.6385 ,  887.1368 ,  562.195  , 1136.5653 ,  698.72723,\n",
       "        1095.084  , 1485.4354 ,  589.906  ,  834.70514, 1278.7478 ,\n",
       "        1202.3212 , 1300.3645 ,  845.35956, 1252.476  ,  926.96094,\n",
       "         991.2378 ,  508.92236, 1133.7792 , 1297.9027 , 1266.8926 ,\n",
       "         887.8564 , 1542.6725 ,  789.5118 , 1048.1342 ,  968.80914,\n",
       "        1092.4701 ,  910.92554, 1112.9618 , 1439.4409 , 1089.6986 ,\n",
       "        1249.1392 ,  483.71204], dtype=float32),\n",
       " array([ 850.31604,  663.80597, 1086.5916 ,  860.86273, 1036.1355 ,\n",
       "        1275.4247 ,  754.279  ,  562.2839 , 1223.463  ,  898.4664 ,\n",
       "        1361.0017 ,  548.4584 ,  476.7273 ,  558.8369 , 1242.141  ,\n",
       "        1109.4794 , 1138.7738 , 1268.0519 , 1300.3206 , 1135.0829 ,\n",
       "        1122.7809 ,  797.4716 , 1140.9294 , 1201.9905 ,  941.99005,\n",
       "         487.9242 , 1244.6781 , 1263.2855 , 1016.29266,  833.0064 ,\n",
       "        1325.5457 , 1024.4722 ], dtype=float32),\n",
       " array([ 921.0618 , 1262.7727 ,  546.62335, 1067.382  ,  652.3663 ,\n",
       "        1052.117  ,  832.2167 , 1247.7418 ,  899.0903 ,  875.77106,\n",
       "        1518.4642 ,  748.43054,  774.8138 , 1029.0446 ,  783.6747 ,\n",
       "         926.3743 ,  654.4915 , 1335.1946 , 1182.3389 , 1499.6478 ,\n",
       "         749.37427, 1203.4224 ,  483.4214 , 1341.061  ,  944.058  ,\n",
       "        1151.0781 ,  613.4889 , 1171.4719 ,  564.7204 , 1476.5162 ,\n",
       "        1076.7965 ,  727.13275], dtype=float32),\n",
       " array([1033.1863 ,  670.99713, 1023.2548 , 1350.3942 , 1264.9716 ,\n",
       "         943.191  , 1416.6932 , 1112.1237 , 1491.3396 , 1219.9797 ,\n",
       "        1453.8629 , 1167.1377 ,  528.03107, 1057.0345 , 1436.7533 ,\n",
       "        1467.6024 , 1315.8868 ,  906.2651 , 1405.6267 , 1402.6508 ,\n",
       "        1308.8649 , 1093.2803 ,  649.2714 , 1381.5006 ,  953.9794 ,\n",
       "        1437.6461 , 1143.8936 , 1133.0035 ,  761.26105, 1561.7965 ,\n",
       "        1415.1581 , 1502.0568 ], dtype=float32),\n",
       " array([1163.8458 ,  482.43964, 1239.2379 , 1191.2914 , 1368.428  ,\n",
       "         856.1342 , 1473.2308 , 1093.2037 , 1299.0972 ,  480.71045,\n",
       "         666.0695 , 1074.0164 , 1491.0032 , 1424.66   , 1126.4421 ,\n",
       "        1511.3553 , 1270.1918 ,  654.19196, 1160.0155 , 1057.3173 ,\n",
       "        1393.6    , 1353.5253 , 1137.644  ,  812.0001 ,  954.3332 ,\n",
       "        1373.6613 ,  904.1516 , 1365.368  , 1302.1625 ,  589.76117,\n",
       "         843.0601 , 1095.9946 ], dtype=float32),\n",
       " array([ 604.54205, 1322.251  , 1143.7378 , 1187.2938 ,  877.6788 ,\n",
       "        1264.8549 , 1438.3597 ,  793.2265 , 1162.0933 ,  848.2103 ,\n",
       "         784.6109 , 1045.5079 , 1190.839  ,  590.3659 , 1182.1597 ,\n",
       "         638.35034, 1317.8293 ,  955.2253 , 1150.3585 , 1452.6024 ,\n",
       "         579.2611 , 1423.0521 ,  914.13824, 1115.726  ,  710.5484 ,\n",
       "        1451.9124 ,  959.44196,  615.51056,  902.0079 ,  486.54846,\n",
       "         808.2537 ,  528.9522 ], dtype=float32),\n",
       " array([ 885.56903, 1376.6434 ,  515.25037,  749.0732 , 1142.9647 ,\n",
       "         787.2077 ,  993.6676 , 1425.0669 ,  570.571  ,  846.6003 ,\n",
       "         634.58563, 1428.124  ,  851.0516 ,  793.7644 , 1352.3014 ,\n",
       "        1348.6403 , 1296.6383 ,  641.77924, 1230.722  ,  504.75916,\n",
       "        1484.538  , 1123.2567 , 1481.4606 , 1544.7803 ,  884.2203 ,\n",
       "        1233.7834 ,  975.1527 ,  586.3676 ,  703.0408 ,  993.18097,\n",
       "        1445.7164 ,  946.94464], dtype=float32),\n",
       " array([1556.4413 , 1253.7655 , 1008.8946 , 1006.74567, 1378.9844 ,\n",
       "        1085.901  , 1382.4169 , 1271.7723 , 1205.253  ,  874.25433,\n",
       "         609.87   , 1233.1207 ,  837.155  ,  808.4074 , 1259.0272 ,\n",
       "        1503.4142 , 1124.169  , 1262.5382 ,  468.84668, 1139.0831 ,\n",
       "         839.1031 ,  827.4344 , 1489.7959 ,  889.8775 , 1107.3284 ,\n",
       "        1388.0498 ,  518.47015, 1298.7682 , 1133.4639 , 1090.3494 ,\n",
       "         835.9202 ,  969.4655 ], dtype=float32),\n",
       " array([1223.1473 , 1107.2806 , 1492.9318 , 1413.3998 , 1371.162  ,\n",
       "         580.7611 , 1000.38544, 1427.1466 , 1233.2382 ,  905.6198 ,\n",
       "        1459.133  ,  894.81793,  955.81104, 1048.8645 ,  968.5422 ,\n",
       "         917.88324, 1214.2203 , 1208.6038 , 1384.3826 , 1430.1527 ,\n",
       "         762.2321 , 1148.166  ,  486.3022 , 1409.9408 , 1422.2272 ,\n",
       "        1144.6404 ,  787.0618 , 1203.8988 ,  743.7526 , 1363.026  ,\n",
       "        1514.3287 , 1437.1193 ], dtype=float32),\n",
       " array([1292.2054 ,  862.9368 , 1114.6799 , 1135.9559 , 1457.7762 ,\n",
       "         582.1639 , 1400.8733 , 1139.2019 , 1434.2313 , 1270.2953 ,\n",
       "         943.78375,  962.7847 ,  928.023  , 1415.5223 , 1393.2181 ,\n",
       "        1032.9257 , 1181.5804 , 1415.9658 , 1354.463  , 1234.6665 ,\n",
       "        1455.6727 ,  760.8269 , 1116.5076 , 1473.5848 ,  835.1504 ,\n",
       "         798.9599 , 1071.8966 , 1279.512  , 1028.1943 ,  994.64044,\n",
       "        1280.0399 , 1478.2778 ], dtype=float32),\n",
       " array([ 844.91547,  933.38654, 1322.122  , 1194.4581 ,  946.5985 ,\n",
       "        1271.8333 , 1238.6145 ,  833.2443 , 1363.6906 , 1349.0231 ,\n",
       "        1092.7073 , 1018.4908 ,  677.121  , 1028.8589 ,  893.00665,\n",
       "         649.0259 , 1302.2902 , 1251.1439 , 1234.9603 , 1228.7838 ,\n",
       "         601.76825, 1119.9525 ,  790.8962 , 1292.9633 , 1356.7635 ,\n",
       "         673.47174, 1185.3754 , 1328.0289 , 1478.6185 , 1349.342  ,\n",
       "         795.03644, 1370.2009 ], dtype=float32),\n",
       " array([1009.57404, 1413.4152 ,  640.32446, 1514.8153 , 1310.2175 ,\n",
       "         978.73285, 1304.8688 ,  669.33   , 1195.8624 , 1146.4255 ,\n",
       "        1424.2106 , 1266.2301 , 1045.5514 ,  900.6363 , 1235.5668 ,\n",
       "        1345.518  , 1033.4658 , 1161.7355 , 1175.1359 , 1095.2721 ,\n",
       "        1217.9606 , 1458.4993 , 1349.8022 , 1232.3625 , 1499.5778 ,\n",
       "        1401.0485 ,  558.1588 , 1249.8204 , 1096.4655 , 1007.1161 ,\n",
       "         652.4338 ,  684.2213 ], dtype=float32),\n",
       " array([1050.6425 , 1260.673  , 1155.9293 , 1205.4336 , 1045.7355 ,\n",
       "        1353.7006 ,  884.79224,  585.22455, 1468.5197 ,  926.0507 ,\n",
       "        1125.1262 , 1401.798  ,  545.5736 ,  660.73553, 1115.4508 ,\n",
       "        1135.989  , 1279.0497 , 1429.6488 ,  924.68964, 1060.1312 ,\n",
       "         848.02765, 1227.7238 , 1534.0829 ,  648.22614, 1325.0338 ,\n",
       "        1095.2998 , 1106.345  , 1400.475  , 1003.7135 , 1294.3527 ,\n",
       "        1145.0927 ,  711.7149 ], dtype=float32),\n",
       " array([ 678.2734 ,  839.32196, 1273.8846 , 1466.1617 , 1252.5065 ,\n",
       "        1230.1565 , 1105.2832 , 1272.3774 , 1494.1864 ,  769.7851 ,\n",
       "         547.69916,  635.0297 , 1003.74506, 1105.4287 , 1150.87   ,\n",
       "         553.975  , 1463.5997 , 1102.6166 , 1054.5376 ,  989.7944 ,\n",
       "         619.81573, 1029.5585 ,  977.52325, 1238.0956 , 1390.4481 ,\n",
       "         779.5887 ,  587.7392 , 1253.3009 , 1178.328  , 1268.0952 ,\n",
       "         949.40344,  779.0982 ], dtype=float32),\n",
       " array([1186.1664 ,  981.11383, 1250.9896 , 1180.7621 , 1121.2455 ,\n",
       "         901.316  , 1060.8959 ,  654.47815,  743.2675 ,  468.4829 ,\n",
       "        1269.2079 ,  986.89606,  641.87305, 1175.5962 , 1176.7299 ,\n",
       "        1232.071  ,  599.10645,  979.33044, 1305.4948 ,  706.18866,\n",
       "        1507.7141 ,  914.743  ,  948.03375, 1104.9336 , 1176.1393 ,\n",
       "        1504.6351 ,  615.4933 , 1068.5354 , 1447.6957 ,  878.2542 ,\n",
       "         761.88995, 1396.2401 ], dtype=float32),\n",
       " array([1103.3435 , 1146.9187 ,  835.8758 ,  878.2813 , 1120.7604 ,\n",
       "        1397.6895 ,  559.51324,  929.3227 , 1051.6733 ,  910.21326,\n",
       "         847.0803 , 1174.6807 , 1079.6711 , 1411.6793 , 1378.1929 ,\n",
       "        1138.6405 , 1061.3301 ,  867.13873, 1462.4163 , 1458.9043 ,\n",
       "        1283.9415 , 1044.3716 , 1154.9373 , 1226.8214 , 1097.6191 ,\n",
       "        1459.9077 ,  894.4418 , 1129.7285 , 1458.5597 ,  704.39453,\n",
       "        1217.4728 , 1225.1896 ], dtype=float32),\n",
       " array([1116.1342 ,  931.26074, 1260.5167 ,  892.41284, 1067.475  ,\n",
       "        1066.3583 , 1071.3907 ,  896.3007 , 1352.5867 ,  838.9245 ,\n",
       "        1185.781  , 1175.5187 , 1447.035  ,  623.81934,  941.78955,\n",
       "         924.21564, 1232.0192 ,  801.80365,  746.1032 , 1141.2496 ,\n",
       "        1036.564  , 1138.256  , 1512.2118 , 1554.7201 , 1106.5309 ,\n",
       "         484.7987 , 1264.7657 ,  665.04034,  969.3769 ,  655.3642 ,\n",
       "        1093.2495 , 1183.4672 ], dtype=float32),\n",
       " array([1117.7037 , 1545.3278 , 1248.3092 , 1315.171  , 1028.3047 ,\n",
       "        1374.1812 , 1113.0535 , 1461.6547 , 1192.8918 , 1170.6736 ,\n",
       "        1351.5177 ,  600.1292 ,  933.519  , 1336.4004 , 1359.1503 ,\n",
       "        1449.8359 , 1386.1    , 1374.3475 ,  817.2959 , 1249.9889 ,\n",
       "         883.67035, 1055.8652 , 1123.1382 , 1117.7883 , 1174.6742 ,\n",
       "         996.83295, 1477.0574 , 1180.1857 ,  666.87634,  917.5699 ,\n",
       "        1070.0587 , 1298.8387 ], dtype=float32),\n",
       " array([1113.8557 , 1416.4816 ,  755.39264, 1298.8126 , 1334.8087 ,\n",
       "        1202.7701 , 1288.7057 , 1127.3019 , 1259.1671 ,  923.95416,\n",
       "        1279.6693 , 1287.4537 , 1198.5251 , 1307.1903 ,  838.9449 ,\n",
       "        1252.4243 , 1345.1683 , 1120.0974 , 1436.3021 , 1361.054  ,\n",
       "        1180.4005 , 1142.2454 ,  961.3167 , 1277.9576 , 1067.0643 ,\n",
       "        1182.2574 ,  646.32007,  481.93616, 1321.7537 , 1417.1979 ,\n",
       "        1091.5989 , 1069.5188 ], dtype=float32),\n",
       " array([ 903.0633 , 1120.0026 , 1499.536  , 1040.4675 ,  764.419  ,\n",
       "        1205.9297 , 1260.0538 ,  737.14935, 1543.9562 , 1302.3224 ,\n",
       "        1151.4722 , 1104.1375 ,  838.711  , 1353.1105 , 1278.7687 ,\n",
       "         950.7775 ,  561.0671 , 1068.3362 ,  955.965  , 1396.9308 ,\n",
       "         648.5665 ,  919.0704 , 1154.7174 ,  847.9585 ,  654.8654 ,\n",
       "         824.983  ,  653.2142 , 1198.4937 ,  544.3543 , 1170.5797 ,\n",
       "         970.7087 , 1096.5934 ], dtype=float32),\n",
       " array([1278.13   , 1323.0011 , 1192.5619 , 1401.2306 ,  766.2026 ,\n",
       "        1053.6251 ,  770.0927 ,  668.7878 ,  999.24396, 1392.7769 ,\n",
       "         550.8231 , 1055.1564 ,  610.4169 ,  726.5175 ,  992.1029 ,\n",
       "         768.613  ,  668.1485 , 1459.8173 , 1385.4012 , 1437.2914 ,\n",
       "        1105.0564 , 1094.9476 , 1484.5817 ,  793.2808 , 1183.2262 ,\n",
       "        1413.6718 , 1117.6832 , 1266.0675 , 1428.6832 ,  936.3571 ,\n",
       "        1307.7864 , 1094.8799 ], dtype=float32),\n",
       " array([ 872.16876, 1267.899  , 1207.8428 , 1228.6678 , 1412.902  ,\n",
       "        1327.4102 , 1437.5458 , 1436.0319 , 1135.554  , 1368.1586 ,\n",
       "        1278.3153 , 1228.845  , 1455.5414 ,  877.5094 ,  639.8337 ,\n",
       "        1078.5309 , 1451.586  , 1081.1245 ,  955.9932 , 1352.88   ,\n",
       "         652.07336, 1119.318  , 1486.5272 , 1360.8346 , 1207.1    ,\n",
       "        1267.1263 , 1224.5914 , 1291.8029 , 1186.0687 ,  833.74493,\n",
       "        1177.7263 , 1455.039  ], dtype=float32),\n",
       " array([1347.1837 , 1046.2241 , 1428.9032 , 1320.2025 , 1234.0262 ,\n",
       "        1108.8079 , 1528.5739 , 1150.3792 ,  932.5966 , 1318.1628 ,\n",
       "        1080.171  , 1262.6588 ,  869.8527 ,  855.8039 , 1222.8605 ,\n",
       "        1147.3798 ,  620.33215,  496.36688, 1415.2595 , 1043.9795 ,\n",
       "         982.6503 ,  608.2756 ,  882.55927, 1459.4103 , 1227.2599 ,\n",
       "        1404.7821 , 1049.6593 ,  892.64496, 1109.5801 , 1260.4938 ,\n",
       "        1267.6556 , 1236.1708 ], dtype=float32),\n",
       " array([ 765.0235 , 1173.7985 ,  880.6844 , 1187.0995 , 1028.6521 ,\n",
       "        1540.6044 , 1145.5974 , 1462.914  ,  822.6728 , 1565.0131 ,\n",
       "        1119.804  ,  835.0787 , 1227.9899 , 1236.6823 , 1087.343  ,\n",
       "        1132.0616 ,  625.53107,  952.1319 ,  655.7109 , 1322.8145 ,\n",
       "         470.2212 , 1270.0999 ,  792.8541 , 1259.6615 , 1504.3738 ,\n",
       "        1523.0533 , 1186.111  , 1459.948  ,  501.88715,  536.6306 ,\n",
       "         940.2995 ,  795.5677 ], dtype=float32),\n",
       " array([ 948.5202 , 1141.1792 , 1494.6713 , 1195.462  , 1090.6477 ,\n",
       "        1050.1168 , 1318.8011 , 1336.939  , 1396.4811 ,  829.1943 ,\n",
       "        1424.4884 , 1326.1538 , 1100.1903 , 1366.9412 , 1003.96246,\n",
       "        1102.5062 , 1370.6078 , 1475.1764 ,  887.4636 , 1526.4576 ,\n",
       "        1083.5217 , 1255.8151 ,  784.8746 , 1174.2821 , 1242.9008 ,\n",
       "        1100.6339 , 1206.9828 ,  655.3661 , 1288.5653 , 1479.9088 ,\n",
       "        1006.40717,  990.8542 ], dtype=float32),\n",
       " array([ 880.7082, 1303.8057, 1233.7269, 1158.0023, 1076.7039, 1140.4192,\n",
       "        1134.2253,  596.5898,  890.2663, 1089.6277,  948.5418, 1393.8436,\n",
       "        1275.891 , 1475.1058,  655.276 , 1501.5718, 1529.7994, 1215.012 ,\n",
       "        1056.5692, 1533.8489, 1130.4004,  940.9514,  976.3676, 1227.0338,\n",
       "        1007.6922, 1234.0316, 1323.6796,  903.2284, 1190.2533, 1465.8942,\n",
       "        1516.1268,  709.8553], dtype=float32),\n",
       " array([ 929.31903, 1244.2948 , 1267.6876 , 1306.8608 , 1342.7318 ,\n",
       "         527.2781 , 1038.8195 ,  803.64435, 1130.7134 , 1345.0604 ,\n",
       "        1205.9635 , 1333.6543 , 1482.2028 ,  955.60895,  952.29504,\n",
       "        1129.3605 , 1305.1058 ,  694.4118 , 1129.032  , 1298.632  ,\n",
       "        1405.6428 ,  604.864  ,  954.0678 , 1193.7623 , 1501.1907 ,\n",
       "        1108.6359 , 1185.6481 , 1553.4042 ,  853.995  ,  609.15405,\n",
       "        1160.7747 , 1213.4624 ], dtype=float32),\n",
       " array([1178.6204 , 1224.5323 ,  910.43536,  764.77985, 1352.5461 ,\n",
       "        1240.1635 , 1397.4003 ,  700.64954,  650.69916, 1536.5461 ,\n",
       "        1199.4769 , 1012.95795, 1481.1692 ,  910.6131 , 1210.1014 ,\n",
       "        1101.5709 ,  829.9102 , 1167.4542 ,  711.6642 , 1105.4797 ,\n",
       "        1123.9299 ,  799.48114,  932.7427 ,  843.81366,  936.9373 ,\n",
       "         897.03265, 1377.182  , 1236.3745 , 1216.8302 ,  730.251  ,\n",
       "        1128.2765 , 1117.7554 ], dtype=float32),\n",
       " array([1140.84   , 1073.7874 , 1249.6681 , 1070.2085 , 1041.2843 ,\n",
       "        1142.4283 , 1405.9059 , 1123.093  ,  620.2959 ,  582.15894,\n",
       "         514.37665, 1375.5564 , 1166.5194 ,  744.8579 ,  704.388  ,\n",
       "        1073.0671 , 1126.2094 , 1266.9625 , 1420.3754 , 1107.7065 ,\n",
       "        1402.9415 , 1204.4269 , 1345.653  , 1532.118  , 1257.8446 ,\n",
       "         655.668  ,  669.84296, 1452.0463 ,  607.7274 ,  919.5506 ,\n",
       "         533.5642 ,  610.8764 ], dtype=float32),\n",
       " array([1437.8165 , 1221.0902 , 1033.0991 , 1510.3018 , 1520.6207 ,\n",
       "        1264.3173 ,  788.7387 , 1163.1097 , 1340.5299 , 1087.9016 ,\n",
       "        1347.1646 , 1032.2402 , 1526.8607 , 1163.513  , 1334.0632 ,\n",
       "        1135.6448 , 1096.9901 ,  971.333  , 1116.5175 , 1119.704  ,\n",
       "        1129.9014 , 1228.1338 ,  984.70776, 1084.1143 ,  991.79425,\n",
       "        1408.9542 , 1263.9048 , 1076.896  , 1362.2743 , 1258.6229 ,\n",
       "         994.7372 , 1413.0265 ], dtype=float32),\n",
       " array([1232.4735 ,  686.10614, 1151.7266 , 1531.2764 , 1127.1982 ,\n",
       "         756.8027 , 1481.7843 , 1094.7836 ,  794.472  ,  652.2247 ,\n",
       "        1311.7445 ,  913.8742 , 1106.7039 ,  593.2856 , 1413.9171 ,\n",
       "        1001.8087 ,  931.0527 ,  769.16003, 1086.9287 ,  939.81635,\n",
       "        1137.3214 , 1139.6566 , 1261.9486 , 1537.7391 ,  646.03186,\n",
       "        1212.2461 ,  888.37415, 1348.2437 ,  558.4329 , 1139.4984 ,\n",
       "         811.8527 , 1465.3503 ], dtype=float32),\n",
       " array([ 793.02606, 1301.1979 , 1286.5128 , 1311.2075 ,  900.5279 ,\n",
       "         582.4492 ,  552.9215 , 1449.7065 ,  559.24634, 1395.9183 ,\n",
       "        1302.357  , 1090.4042 ,  819.57245, 1321.4114 , 1102.4789 ,\n",
       "         778.0064 ,  770.0401 , 1113.7179 , 1368.8912 , 1193.6132 ,\n",
       "         931.1851 , 1491.7428 , 1102.9801 , 1101.9281 , 1126.4464 ,\n",
       "         916.8107 ,  832.7844 ,  878.8127 , 1015.24603, 1188.8605 ,\n",
       "        1159.9673 , 1210.4376 ], dtype=float32),\n",
       " array([1406.0675 , 1115.6467 , 1418.3253 ,  593.3339 , 1059.3728 ,\n",
       "        1023.94977,  974.7144 ,  784.4124 , 1078.3271 , 1006.502  ,\n",
       "        1266.9697 , 1114.2988 , 1345.289  , 1284.6602 , 1514.8801 ,\n",
       "        1259.5533 ,  955.1207 ,  745.8548 ,  787.0318 ,  888.2429 ,\n",
       "         896.8641 , 1361.0885 , 1314.31   , 1162.5094 ,  908.9317 ,\n",
       "        1397.7498 ,  942.85767, 1309.6503 , 1088.2045 , 1197.1276 ,\n",
       "        1433.3112 , 1317.015  ], dtype=float32),\n",
       " array([1123.8184 , 1221.9152 , 1174.0013 ,  889.9392 ,  775.8035 ,\n",
       "        1379.8973 ,  537.84326,  481.5052 , 1139.9403 , 1232.5265 ,\n",
       "        1469.3116 ,  963.6776 , 1269.6486 , 1224.3807 , 1131.8778 ,\n",
       "        1313.0461 , 1175.8937 , 1456.2596 ,  496.8211 , 1516.4061 ,\n",
       "        1107.023  , 1266.8075 ,  636.33716,  864.72186,  582.3567 ,\n",
       "         864.9013 , 1112.0277 , 1267.1224 ,  524.5862 , 1089.6951 ,\n",
       "        1182.4485 , 1221.6327 ], dtype=float32),\n",
       " array([1087.0342 ,  907.903  ,  529.44037, 1000.5018 , 1300.7638 ,\n",
       "        1090.8395 , 1299.181  , 1512.0287 , 1169.3455 , 1369.2179 ,\n",
       "        1141.018  , 1425.1415 ,  895.48773,  563.663  ,  941.464  ,\n",
       "        1198.9229 , 1311.9095 , 1433.9565 ,  648.04834, 1360.4083 ,\n",
       "        1356.8353 ,  686.7829 , 1166.9186 , 1307.8524 ,  904.5036 ,\n",
       "         649.6144 ,  842.3724 , 1113.5695 ,  825.9848 ,  895.66095,\n",
       "        1290.3268 , 1154.2229 ], dtype=float32),\n",
       " array([1375.9785 ,  995.85944,  528.6396 ,  619.37573,  723.6368 ,\n",
       "        1391.3289 , 1298.8073 , 1552.931  ,  843.7139 ,  858.0225 ,\n",
       "         813.9527 , 1290.6332 ,  648.5486 , 1029.9962 , 1215.6266 ,\n",
       "        1075.7078 , 1126.3589 , 1304.2013 , 1277.5677 , 1012.1236 ,\n",
       "        1200.7261 , 1128.597  , 1243.7988 ,  869.0664 ,  908.1122 ,\n",
       "        1124.5049 ,  669.267  , 1477.5885 , 1282.591  ,  959.5046 ,\n",
       "        1311.7871 , 1399.0198 ], dtype=float32),\n",
       " array([1260.4678 , 1334.1179 , 1248.4508 , 1114.1423 , 1257.9762 ,\n",
       "        1037.4019 ,  543.3284 , 1423.2543 , 1368.5675 ,  909.3882 ,\n",
       "         916.94714, 1288.4757 , 1352.6764 , 1455.3817 ,  534.7426 ,\n",
       "        1304.3639 , 1118.6986 ,  556.0923 , 1339.2308 , 1451.9714 ,\n",
       "         810.2816 ,  496.35583,  676.43195,  521.1273 , 1385.2701 ,\n",
       "        1350.719  ,  848.32025, 1213.5752 ,  819.2589 ,  560.9611 ,\n",
       "        1052.7017 , 1067.2745 ], dtype=float32),\n",
       " array([1459.3365 , 1437.3221 , 1153.1869 , 1383.0944 , 1113.4823 ,\n",
       "         952.9991 , 1133.3955 , 1190.5579 ,  969.8433 , 1133.778  ,\n",
       "        1365.8638 , 1001.9013 , 1459.045  , 1374.0111 , 1114.8241 ,\n",
       "         971.9593 , 1101.8339 , 1199.9052 , 1449.1788 , 1208.2356 ,\n",
       "        1207.7754 ,  984.79376, 1123.6621 , 1301.2985 ,  937.64764,\n",
       "        1067.6112 , 1343.991  , 1153.0773 , 1105.1433 , 1233.2799 ,\n",
       "        1542.1483 , 1273.9594 ], dtype=float32),\n",
       " array([ 687.68353, 1471.6105 ,  559.075  , 1458.474  , 1252.4391 ,\n",
       "        1424.1217 ,  981.4145 ,  580.4994 ,  560.45074, 1048.1003 ,\n",
       "        1394.6019 , 1128.349  ,  826.64874, 1291.8323 , 1247.9584 ,\n",
       "         873.56396, 1295.6127 , 1096.3397 , 1277.106  ,  968.9568 ,\n",
       "         968.00433,  671.1684 ,  834.1994 , 1153.8026 ,  515.06903,\n",
       "         522.35187, 1186.2374 , 1509.2421 , 1195.847  ,  890.2911 ,\n",
       "         583.867  , 1149.7195 ], dtype=float32),\n",
       " array([1269.1876 , 1091.9375 ,  729.76624, 1438.1024 , 1162.5925 ,\n",
       "        1429.2167 , 1336.2501 ,  703.1119 , 1469.1757 ,  950.0662 ,\n",
       "        1258.6603 , 1104.9391 ,  928.6951 , 1407.8688 , 1321.86   ,\n",
       "        1107.0427 ,  916.7754 , 1402.7789 , 1046.6797 , 1500.3636 ,\n",
       "         953.23694, 1100.7188 ,  631.97253, 1269.0238 ,  548.3508 ,\n",
       "         826.3941 , 1340.0734 , 1419.4989 ,  865.6287 , 1324.7303 ,\n",
       "        1269.6608 , 1183.3705 ], dtype=float32),\n",
       " array([1154.6758 , 1457.3849 , 1416.9722 , 1131.9893 , 1380.5621 ,\n",
       "        1157.9362 ,  502.8006 ,  914.393  , 1357.1362 , 1526.074  ,\n",
       "         990.3995 , 1453.4132 , 1222.6019 , 1304.8035 , 1093.381  ,\n",
       "         750.4242 , 1307.3256 , 1531.2635 ,  506.9566 , 1057.568  ,\n",
       "         945.0834 ,  917.43744, 1040.7043 , 1396.9803 ,  499.24902,\n",
       "         919.73456,  829.46295, 1294.1245 , 1012.8398 ,  916.14825,\n",
       "         674.2944 , 1245.9498 ], dtype=float32),\n",
       " array([ 948.97437, 1459.5748 , 1437.1959 , 1297.624  , 1259.819  ,\n",
       "        1312.0729 , 1051.2683 , 1069.255  ,  748.51483,  873.5745 ,\n",
       "         961.87665, 1337.6324 , 1160.9001 ,  485.4535 , 1071.1019 ,\n",
       "         933.5195 ,  869.4714 , 1249.8936 , 1090.1965 ,  666.0626 ,\n",
       "        1464.0093 , 1361.3114 ,  942.6855 , 1481.9039 , 1038.0361 ,\n",
       "         794.00433,  949.462  ,  918.55145,  988.39655,  998.9462 ,\n",
       "        1421.5531 , 1131.9913 ], dtype=float32),\n",
       " array([1473.1528 , 1398.456  , 1209.3562 ,  893.51556, 1385.0874 ,\n",
       "         671.3305 ,  989.7531 , 1104.3159 ,  805.71045, 1423.0162 ,\n",
       "         732.4451 ,  927.6944 , 1429.7245 , 1333.1598 ,  891.0096 ,\n",
       "         979.6608 , 1516.0262 , 1168.1842 , 1246.1492 , 1190.2574 ,\n",
       "        1237.0109 , 1128.4012 , 1095.6652 ,  650.65497, 1371.8153 ,\n",
       "        1314.1323 , 1203.1864 , 1504.0143 , 1120.1532 , 1224.3094 ,\n",
       "        1086.6646 , 1374.9938 ], dtype=float32),\n",
       " array([1035.7482 ,  753.53906, 1296.9684 ,  987.9107 , 1351.3567 ,\n",
       "        1273.297  , 1236.3607 , 1310.1105 , 1009.4677 , 1012.28766,\n",
       "         654.7083 , 1304.9031 , 1142.778  , 1123.1586 , 1190.4331 ,\n",
       "         868.8294 , 1554.0211 , 1332.0101 ,  967.5878 , 1362.8099 ,\n",
       "        1041.8046 , 1404.1434 , 1261.9929 ,  578.1986 , 1111.1312 ,\n",
       "        1194.3676 , 1217.9924 , 1140.7128 , 1030.1409 , 1207.881  ,\n",
       "         921.11005, 1525.9218 ], dtype=float32),\n",
       " array([ 902.0587 ,  958.60504,  634.3347 , 1264.4315 , 1212.5787 ,\n",
       "         637.8539 ,  586.3386 , 1108.5966 ,  880.82135, 1200.7032 ,\n",
       "        1092.0603 ,  855.6851 ,  855.38556,  611.2676 ,  950.71686,\n",
       "        1170.162  , 1136.8665 , 1098.9619 , 1453.1022 ,  630.47327,\n",
       "        1105.5575 ,  999.0833 , 1154.693  , 1277.849  ,  988.5937 ,\n",
       "         539.4181 ,  997.9153 , 1321.8041 , 1096.466  , 1489.474  ,\n",
       "        1021.4118 , 1138.7386 ], dtype=float32),\n",
       " array([ 882.3239 , 1510.6962 , 1277.8268 ,  470.2685 , 1381.8405 ,\n",
       "        1063.6362 , 1303.8773 , 1275.7858 , 1310.3441 , 1503.6835 ,\n",
       "         981.00256, 1326.9474 ,  703.6818 , 1093.9111 ,  849.11163,\n",
       "        1327.5051 ,  964.9763 , 1323.9785 , 1054.7944 , 1361.7163 ,\n",
       "         763.78204, 1020.18225,  615.053  , 1317.4889 ,  921.2703 ,\n",
       "        1127.1536 ,  972.39154,  665.6641 ,  873.72974, 1040.112  ,\n",
       "        1129.6704 ,  891.68396], dtype=float32),\n",
       " array([ 918.74445, 1161.0309 ,  651.0744 , 1141.7518 ,  545.53516,\n",
       "        1134.8517 , 1184.7125 , 1293.0562 ,  867.79474,  929.2131 ,\n",
       "        1271.7096 ,  492.82343,  811.2309 , 1204.076  , 1163.8431 ,\n",
       "        1372.4056 ,  884.01495,  701.26874,  663.2941 ,  559.9252 ,\n",
       "        1071.9922 , 1151.195  , 1115.5524 , 1429.7639 , 1359.9117 ,\n",
       "        1279.6157 ,  761.002  ,  948.02826, 1118.6013 , 1272.2994 ,\n",
       "        1367.2566 , 1094.0598 ], dtype=float32),\n",
       " array([1197.2579 , 1279.1492 , 1133.054  , 1344.1051 , 1212.3097 ,\n",
       "        1289.1864 ,  961.4125 , 1541.3954 , 1273.6937 , 1195.9481 ,\n",
       "        1276.8981 , 1136.8872 ,  823.10236, 1064.7982 , 1164.6549 ,\n",
       "         673.33   , 1329.7218 , 1110.5483 , 1180.4064 , 1247.2379 ,\n",
       "         640.57983, 1168.3011 ,  583.78253, 1221.3466 ,  955.6944 ,\n",
       "        1403.5657 ,  924.2821 , 1290.3436 , 1324.7274 , 1131.0095 ,\n",
       "        1121.1381 ,  617.3306 ], dtype=float32),\n",
       " array([ 845.7861 , 1342.9164 , 1287.133  , 1373.0795 , 1183.6036 ,\n",
       "        1002.2876 ,  847.0509 , 1399.7587 ,  976.9565 ,  974.37665,\n",
       "        1467.2332 ,  602.05786,  992.7399 , 1441.4742 , 1280.7662 ,\n",
       "         986.57745,  602.585  , 1419.0936 , 1102.3876 , 1274.479  ,\n",
       "        1543.5216 , 1284.2172 , 1302.0267 , 1465.8672 , 1109.0466 ,\n",
       "        1088.9623 , 1357.347  ,  787.9466 , 1284.9666 , 1263.4276 ,\n",
       "         934.7601 , 1471.6235 ], dtype=float32),\n",
       " array([1093.5621 , 1198.6547 , 1347.5302 ,  916.9655 ,  666.175  ,\n",
       "         971.6621 ,  940.0935 , 1291.8351 , 1210.7899 ,  470.21484,\n",
       "        1145.4684 ,  803.85443, 1220.8381 , 1395.2474 , 1181.5659 ,\n",
       "        1316.0221 , 1522.9976 , 1253.0999 , 1497.5193 , 1107.9692 ,\n",
       "        1339.837  , 1310.012  , 1361.0704 , 1184.5172 ,  869.1336 ,\n",
       "         995.93396, 1163.257  ,  487.1411 ,  665.5152 , 1353.0743 ,\n",
       "        1123.0294 ,  645.3776 ], dtype=float32),\n",
       " array([1167.064  , 1168.2277 ,  904.85034, 1499.8839 ,  507.8084 ,\n",
       "         990.5479 , 1283.4857 , 1266.7323 , 1189.2837 , 1122.4282 ,\n",
       "        1111.2118 ,  555.8118 , 1144.5986 , 1143.5315 ,  842.1032 ,\n",
       "         800.2538 , 1376.274  , 1112.8027 ,  585.2672 , 1001.58307,\n",
       "        1140.851  ,  525.8362 ,  838.05927, 1157.9104 , 1083.6631 ,\n",
       "        1246.0753 , 1516.5245 , 1092.0693 ,  670.7297 , 1103.8267 ,\n",
       "        1233.85   , 1046.7592 ], dtype=float32),\n",
       " array([1126.1418 , 1192.9226 , 1434.2213 , 1389.4381 , 1399.2258 ,\n",
       "        1109.8394 , 1145.7876 ,  687.4678 ,  808.8829 , 1135.6686 ,\n",
       "        1339.4792 ,  880.4942 ,  637.92505, 1110.8003 , 1272.4131 ,\n",
       "        1088.5543 , 1346.9431 ,  988.29474,  938.30927, 1294.1356 ,\n",
       "        1253.15   , 1341.8544 , 1067.0465 , 1213.9471 , 1302.7103 ,\n",
       "         591.5917 , 1414.6342 ,  991.16156,  858.60284, 1154.301  ,\n",
       "        1160.0352 , 1187.6244 ], dtype=float32),\n",
       " array([1229.8285 , 1102.9905 ,  774.2437 ,  971.58417,  649.4354 ,\n",
       "         686.42487, 1105.1644 ,  467.46326, 1218.7736 ,  766.39496,\n",
       "         887.69135,  914.16046, 1286.329  , 1032.0349 , 1500.245  ,\n",
       "         953.707  , 1509.5677 ,  465.14563, 1127.3533 ,  841.7851 ,\n",
       "         768.88934, 1428.9117 , 1241.4564 , 1292.3468 , 1128.001  ,\n",
       "        1279.88   , 1392.686  , 1259.1454 , 1369.8058 , 1470.4169 ,\n",
       "        1278.7139 , 1503.5243 ], dtype=float32),\n",
       " array([ 787.98956, 1029.8586 ,  526.89886, 1345.277  , 1444.8558 ,\n",
       "         506.61914,  654.6802 , 1029.3999 , 1507.3263 , 1256.5992 ,\n",
       "        1068.2263 ,  894.8083 ,  853.67523, 1336.8287 , 1123.4974 ,\n",
       "        1091.3761 , 1151.9636 , 1168.4213 , 1374.4602 , 1117.4888 ,\n",
       "        1230.0577 , 1327.8058 , 1206.465  , 1345.3368 , 1336.4161 ,\n",
       "         633.9396 ,  657.9805 , 1095.5635 , 1470.7825 ,  754.9036 ,\n",
       "        1548.4115 , 1428.8925 ], dtype=float32),\n",
       " array([1381.2462 ,  918.60394,  901.2968 , 1216.8502 , 1086.0487 ,\n",
       "        1346.9562 ,  560.9341 , 1313.9071 , 1184.9832 , 1215.4967 ,\n",
       "         980.83813, 1257.9071 , 1461.9026 ,  560.8906 ,  900.36554,\n",
       "        1287.2726 , 1097.3894 , 1439.4976 , 1395.8414 , 1459.9525 ,\n",
       "         825.6373 ,  835.14716,  914.63293,  644.37537,  559.7914 ,\n",
       "         544.74023, 1124.2772 , 1119.556  ,  758.1705 , 1449.1083 ,\n",
       "         871.86163,  896.77386], dtype=float32),\n",
       " array([1162.9453, 1172.233 , 1169.6188, 1128.6152, 1142.3424,  889.0369,\n",
       "        1198.0197, 1229.4392, 1283.6586, 1210.6626, 1267.2012, 1366.3655,\n",
       "        1322.6432, 1258.6849,  862.9667, 1268.4874,  768.2246,  731.8048,\n",
       "        1519.6753,  939.6702,  579.4321, 1379.6688, 1457.1237, 1387.3241,\n",
       "        1151.3861, 1188.1742, 1061.9945, 1236.0084, 1165.4146, 1080.4468,\n",
       "        1065.2102, 1296.753 ], dtype=float32),\n",
       " array([ 766.94714, 1278.2068 , 1105.2041 , 1096.2843 , 1256.0739 ,\n",
       "        1145.1536 , 1126.3636 , 1353.325  , 1044.5315 ,  658.9843 ,\n",
       "         667.11774, 1462.2108 ,  663.7071 , 1276.4052 , 1136.0541 ,\n",
       "        1204.0658 ,  850.46783, 1235.5084 ,  523.96326, 1378.6543 ,\n",
       "        1199.4594 , 1210.5537 ,  928.3453 , 1003.15924, 1353.6813 ,\n",
       "        1354.9974 , 1320.5853 , 1264.9039 , 1462.4025 , 1374.1537 ,\n",
       "        1090.5609 , 1069.826  ], dtype=float32),\n",
       " array([1143.3121 , 1511.6873 , 1370.0302 ,  871.1806 ,  899.2973 ,\n",
       "        1139.8804 , 1464.0277 , 1267.4865 ,  884.85126,  900.43634,\n",
       "        1425.3368 ,  655.6617 ,  989.2337 , 1278.4738 , 1488.2654 ,\n",
       "        1165.0659 ,  482.69458, 1215.8197 , 1346.9019 ,  556.4546 ,\n",
       "         924.29254,  560.6104 ,  901.6565 , 1163.3647 , 1291.4723 ,\n",
       "        1127.5032 ,  640.45435, 1217.8304 , 1075.0906 ,  947.06586,\n",
       "        1042.9974 , 1230.2196 ], dtype=float32),\n",
       " array([ 921.2596 , 1106.3292 , 1358.6539 ,  888.8427 , 1283.3488 ,\n",
       "        1264.7458 , 1150.065  , 1112.082  , 1230.1334 ,  916.6379 ,\n",
       "        1153.9221 , 1525.9703 , 1260.6241 , 1100.6355 , 1281.4767 ,\n",
       "         912.06604, 1289.2035 ,  624.94214, 1095.4163 , 1408.8492 ,\n",
       "        1016.54816,  662.95734, 1233.3678 ,  960.61115, 1418.9728 ,\n",
       "        1397.2902 , 1142.742  , 1287.6774 ,  559.6171 , 1324.0553 ,\n",
       "         584.25073,  653.6318 ], dtype=float32),\n",
       " array([1060.7527 , 1264.1039 , 1277.1898 , 1020.7054 , 1050.2375 ,\n",
       "         957.5372 ,  972.56256, 1231.819  , 1303.3802 ,  943.87164,\n",
       "         898.3876 , 1473.135  , 1553.0983 , 1287.0636 ,  978.68933,\n",
       "        1192.2599 , 1040.4852 , 1089.6254 , 1125.4954 , 1051.0029 ,\n",
       "         607.6767 ,  664.6862 , 1342.4668 , 1202.2943 , 1425.2085 ,\n",
       "        1027.661  , 1121.4    , 1308.9554 , 1338.2872 , 1098.2756 ,\n",
       "        1302.3602 ,  896.03143], dtype=float32),\n",
       " array([1249.3911 , 1371.2634 , 1028.6527 ,  559.8083 , 1004.8512 ,\n",
       "        1469.4989 , 1127.3665 , 1198.8097 , 1447.3057 , 1196.9305 ,\n",
       "         524.2763 , 1294.3959 , 1095.5392 ,  870.6861 , 1308.1046 ,\n",
       "        1417.0433 ,  660.29517, 1139.002  , 1207.5883 ,  863.6767 ,\n",
       "        1254.9152 , 1178.7837 ,  706.0547 , 1508.2902 , 1122.0353 ,\n",
       "         645.89514, 1393.9498 , 1503.5343 , 1142.0222 ,  986.15   ,\n",
       "        1427.6576 , 1134.4106 ], dtype=float32),\n",
       " array([1055.7782 , 1353.8119 , 1089.0516 , 1180.8019 ,  707.42645,\n",
       "        1161.7344 , 1092.9431 , 1063.736  ,  637.43994,  590.7631 ,\n",
       "         909.5192 , 1151.9877 ,  643.64716, 1207.1958 , 1346.7186 ,\n",
       "        1136.5742 , 1504.6403 ,  544.69714, 1399.961  ,  506.98553,\n",
       "        1126.1263 , 1405.9772 , 1387.9042 , 1328.0146 ,  879.116  ,\n",
       "        1281.8429 ,  665.83997, 1402.1729 , 1363.9323 , 1183.6704 ,\n",
       "        1170.8615 , 1114.7739 ], dtype=float32),\n",
       " array([ 757.7123 , 1104.2795 , 1117.338  ,  808.2729 ,  844.47797,\n",
       "        1528.6852 , 1501.2391 , 1340.588  , 1129.4281 ,  929.4384 ,\n",
       "         896.8996 ,  487.2752 , 1144.9624 ,  992.97076, 1001.6622 ,\n",
       "        1002.7756 , 1126.1913 ,  666.05865, 1183.7114 , 1378.1707 ,\n",
       "         981.69275, 1196.2783 ,  483.94586, 1232.8994 , 1290.576  ,\n",
       "        1245.5126 , 1412.7628 , 1291.0604 , 1321.3849 ,  994.205  ,\n",
       "        1353.6188 ,  906.4804 ], dtype=float32),\n",
       " array([ 900.6446 , 1151.0829 ,  878.0312 , 1376.504  ,  841.643  ,\n",
       "        1413.8641 , 1172.3022 , 1147.5115 , 1167.8824 , 1083.1276 ,\n",
       "        1290.5958 , 1065.9089 , 1370.443  , 1463.8512 , 1360.9713 ,\n",
       "         699.60126, 1279.4027 , 1390.423  , 1277.58   ,  933.8488 ,\n",
       "        1398.3339 , 1329.7672 , 1255.6434 ,  896.5462 , 1398.515  ,\n",
       "        1348.6198 ,  561.30206, 1209.6246 , 1127.5494 , 1120.4912 ,\n",
       "         933.9111 , 1094.7645 ], dtype=float32),\n",
       " array([ 505.77057,  716.8227 , 1424.2823 ,  855.83844, 1120.2367 ,\n",
       "        1163.7411 , 1033.3905 , 1241.1716 , 1089.1312 , 1298.9855 ,\n",
       "         886.3591 ,  466.6643 , 1248.4354 , 1411.3123 , 1284.5558 ,\n",
       "        1459.945  ,  930.7235 ,  975.44556,  584.33704, 1084.839  ,\n",
       "        1431.0872 , 1132.061  ,  893.0342 , 1056.8641 , 1041.3677 ,\n",
       "         939.8509 , 1181.7515 , 1387.7686 ,  898.2922 ,  971.72064,\n",
       "        1461.6161 , 1023.50934], dtype=float32),\n",
       " array([1296.6505 ,  889.95264, 1342.2329 , 1148.5155 , 1075.3285 ,\n",
       "        1266.2699 , 1098.9375 , 1131.317  , 1091.4983 ,  834.6159 ,\n",
       "        1316.68   , 1478.0941 , 1387.662  ,  920.7591 ,  583.805  ,\n",
       "        1464.2234 , 1197.3971 ,  891.6491 , 1059.2236 ,  909.09595,\n",
       "        1031.6552 , 1121.4293 , 1078.486  ,  837.23425, 1270.1461 ,\n",
       "        1333.4991 , 1290.3921 , 1513.3384 , 1118.6658 , 1000.90753,\n",
       "        1475.3322 ,  655.0825 ], dtype=float32),\n",
       " array([1378.7456 ,  651.26056, 1113.2177 , 1528.0453 , 1118.1829 ,\n",
       "        1418.3954 , 1300.3171 ,  971.6695 , 1097.5018 , 1146.862  ,\n",
       "         823.43036, 1428.0153 , 1118.448  , 1191.6893 , 1126.8229 ,\n",
       "        1118.0299 , 1278.9846 , 1315.6998 , 1264.3488 , 1336.3922 ,\n",
       "        1545.5074 , 1108.0365 , 1355.1877 , 1217.8568 , 1098.5012 ,\n",
       "        1189.8756 , 1407.307  ,  884.46075, 1019.897  , 1539.9415 ,\n",
       "        1166.7272 ,  673.4875 ], dtype=float32),\n",
       " array([1498.2029 ,  644.394  , 1262.0537 , 1431.7585 , 1398.6698 ,\n",
       "         871.27795,  920.3626 ,  990.76263,  887.35626, 1050.2379 ,\n",
       "        1477.1451 , 1193.1329 , 1232.3439 ,  913.1505 , 1409.1501 ,\n",
       "        1228.2998 , 1192.1017 ,  939.97253, 1134.8027 , 1266.5311 ,\n",
       "         921.8289 , 1364.9496 , 1181.241  , 1233.1334 ,  872.1591 ,\n",
       "         891.41437, 1122.9777 , 1514.6332 , 1342.4347 , 1309.0629 ,\n",
       "         906.44965,  866.4932 ], dtype=float32),\n",
       " array([ 487.2652 , 1270.6361 ,  888.18964, 1106.6785 , 1467.0098 ,\n",
       "         934.1307 ,  739.9096 , 1473.7391 , 1004.2354 ,  533.8852 ,\n",
       "        1285.9999 , 1152.8611 ,  650.6894 , 1134.3641 , 1482.3525 ,\n",
       "         896.13367, 1453.5089 ,  919.8591 ,  988.8671 , 1232.8689 ,\n",
       "        1281.283  , 1097.5132 , 1524.9022 , 1384.0966 ,  802.3618 ,\n",
       "         919.2884 , 1144.7289 ,  666.7579 , 1101.2494 ,  966.6857 ,\n",
       "        1306.7727 ,  756.703  ], dtype=float32),\n",
       " array([ 891.19403, 1322.2274 , 1274.547  ,  970.0262 ,  496.59766,\n",
       "        1206.0715 ,  584.1033 , 1485.9269 ,  851.2432 ,  906.81024,\n",
       "         939.00836, 1265.5643 , 1449.7614 , 1381.1056 , 1292.6615 ,\n",
       "        1106.616  , 1354.6064 , 1047.1241 , 1140.8301 ,  937.8333 ,\n",
       "        1191.2562 ,  850.45575,  998.05914,  980.54816, 1379.5753 ,\n",
       "        1072.9783 , 1491.5906 ,  944.9274 , 1119.5172 , 1233.9583 ,\n",
       "        1215.6505 ,  708.79004], dtype=float32),\n",
       " array([1451.9938 , 1049.7623 , 1150.9559 , 1284.9884 , 1428.1503 ,\n",
       "        1154.5612 , 1425.085  ,  947.2384 , 1249.7999 , 1217.2455 ,\n",
       "        1144.5723 , 1268.8615 , 1445.201  ,  890.61224, 1365.0477 ,\n",
       "        1136.0228 , 1221.6091 , 1114.395  ,  844.16986, 1147.1798 ,\n",
       "        1050.1985 , 1322.3362 , 1087.9484 ,  655.11346, 1175.9418 ,\n",
       "        1339.7609 ,  552.83264, 1266.536  ,  561.3133 , 1100.6346 ,\n",
       "        1335.7875 ,  757.4638 ], dtype=float32),\n",
       " array([1108.4629 , 1424.6422 , 1046.7051 , 1131.193  , 1413.324  ,\n",
       "        1291.0868 ,  927.26624, 1203.1133 ,  750.14777, 1071.2202 ,\n",
       "        1211.6104 ,  894.4577 ,  909.94867,  934.25073, 1094.4458 ,\n",
       "        1211.4537 ,  664.0556 , 1298.7697 , 1451.8822 ,  750.602  ,\n",
       "         872.2161 ,  911.7462 , 1323.8202 , 1498.846  ,  910.3022 ,\n",
       "        1505.1918 , 1173.9037 ,  562.9561 , 1017.57916, 1257.8942 ,\n",
       "        1512.7457 ,  670.4503 ], dtype=float32),\n",
       " array([1088.8735 , 1297.9192 , 1237.8035 ,  975.6299 , 1066.4102 ,\n",
       "         657.2813 , 1533.707  ,  674.46844, 1215.1383 , 1159.6812 ,\n",
       "        1426.1075 , 1342.9711 ,  471.3883 , 1127.6713 , 1495.8864 ,\n",
       "        1016.36914, 1122.6133 ,  888.1375 , 1317.6788 ,  664.9284 ,\n",
       "         644.5243 ,  873.24646, 1238.8761 , 1502.7665 , 1017.3416 ,\n",
       "         644.79895,  806.5617 , 1404.2957 , 1480.4696 , 1123.0022 ,\n",
       "         998.2257 ,  761.5682 ], dtype=float32),\n",
       " array([1184.6239 ,  703.58844, 1563.459  ,  551.28687,  946.1921 ,\n",
       "         662.3411 ,  607.68304, 1118.2421 , 1339.478  , 1073.8551 ,\n",
       "         829.0887 , 1209.6875 ,  849.2348 , 1392.7439 , 1201.7225 ,\n",
       "         642.03046,  765.66614, 1097.898  , 1364.2375 , 1360.4894 ,\n",
       "        1561.5018 , 1125.629  , 1108.6583 ,  959.355  ,  889.3924 ,\n",
       "        1204.1327 , 1437.0034 , 1444.8273 , 1070.9308 ,  920.5717 ,\n",
       "        1072.8892 , 1328.3356 ], dtype=float32),\n",
       " array([ 852.3352 , 1009.01385,  524.2994 , 1137.4856 , 1405.2706 ,\n",
       "        1496.3461 , 1347.2723 , 1112.1383 ,  650.2791 , 1203.4668 ,\n",
       "         841.63727,  955.8078 , 1467.7123 , 1324.7052 ,  560.2814 ,\n",
       "        1119.3384 , 1187.2926 , 1049.3076 ,  867.33624, 1348.3131 ,\n",
       "         616.963  , 1165.0673 , 1273.3772 , 1038.5896 , 1353.025  ,\n",
       "         831.8851 , 1108.9307 , 1333.873  , 1236.5817 ,  702.5612 ,\n",
       "         824.35406, 1362.1796 ], dtype=float32),\n",
       " array([1248.4015 ,  545.50336, 1300.7003 , 1253.5342 ,  738.2106 ,\n",
       "        1294.0197 , 1065.4004 , 1058.6584 ,  982.091  , 1182.4135 ,\n",
       "         842.13074, 1028.4985 ,  466.3346 , 1509.5809 , 1192.2961 ,\n",
       "        1401.8019 , 1191.8179 , 1115.4772 , 1278.1948 , 1265.0726 ,\n",
       "        1020.3118 ,  941.7172 , 1338.1383 ,  899.061  , 1347.7653 ,\n",
       "         823.28864,  793.5535 , 1396.3732 , 1395.2803 , 1394.1862 ,\n",
       "         897.2335 , 1432.5011 ], dtype=float32),\n",
       " array([1421.1108 , 1204.5682 ,  671.87555, 1112.8501 , 1422.2366 ,\n",
       "         839.5081 , 1444.5907 ,  619.84564, 1091.8457 , 1482.5233 ,\n",
       "        1029.6157 , 1271.9462 , 1314.1567 , 1034.2703 , 1389.3435 ,\n",
       "        1473.4686 , 1293.8893 ,  612.29266, 1004.72107,  750.12604,\n",
       "         785.6657 ,  989.48285, 1325.0477 ,  855.0647 , 1363.2784 ,\n",
       "         559.9026 , 1288.1942 ,  974.6999 , 1139.4427 ,  904.5663 ,\n",
       "        1481.4662 ,  897.73627], dtype=float32),\n",
       " array([ 944.9759 , 1331.3148 , 1510.8749 , 1458.389  , 1351.116  ,\n",
       "        1176.3519 ,  944.3507 , 1175.5753 , 1143.1254 , 1497.5201 ,\n",
       "        1324.0717 , 1467.0847 ,  536.4916 , 1509.486  ,  683.94305,\n",
       "         740.7292 ,  692.8298 ,  484.29907, 1407.2699 ,  951.5777 ,\n",
       "         914.1214 , 1242.5936 , 1320.6664 ,  644.7999 , 1119.0638 ,\n",
       "         950.44977, 1425.4374 , 1239.6704 ,  845.2762 , 1183.0558 ,\n",
       "        1424.3116 , 1507.84   ], dtype=float32),\n",
       " array([1039.6157 ,  503.93427, 1458.0968 , 1470.1487 , 1268.3138 ,\n",
       "        1327.1367 , 1121.3883 , 1449.7998 ,  816.8634 , 1100.4156 ,\n",
       "         889.34564, 1202.0779 , 1486.6857 , 1498.8417 ,  618.4401 ,\n",
       "        1187.5696 , 1155.2006 , 1156.7728 , 1235.6837 , 1137.9783 ,\n",
       "        1325.005  ,  839.7692 , 1139.3909 , 1102.0702 ,  847.9471 ,\n",
       "         472.156  , 1074.0121 ,  807.04926,  965.6102 ,  560.3911 ,\n",
       "         758.5703 ,  519.61   ], dtype=float32),\n",
       " array([ 848.98615, 1155.9939 ,  788.492  , 1221.4689 ,  571.04517,\n",
       "        1198.3785 , 1526.498  , 1273.7131 ,  618.8571 , 1027.2891 ,\n",
       "         978.54456,  583.62915, 1278.8126 , 1135.3501 , 1218.5225 ,\n",
       "        1031.543  , 1074.2628 , 1110.6484 , 1273.712  , 1140.0046 ,\n",
       "         688.4759 , 1090.0647 , 1349.226  ,  530.41174,  811.4428 ,\n",
       "         683.02765, 1299.2616 ,  822.71844, 1493.41   , 1140.4741 ,\n",
       "        1116.62   ,  926.13617], dtype=float32),\n",
       " array([1490.4786 , 1235.1289 , 1301.7091 ,  643.75116, 1306.5131 ,\n",
       "        1239.6859 , 1272.5583 , 1300.6501 ,  993.7699 ,  584.6166 ,\n",
       "        1294.9777 , 1345.0874 ,  987.0085 , 1094.591  , 1483.4382 ,\n",
       "        1091.3455 ,  924.4626 ,  619.6958 , 1099.3955 , 1450.6349 ,\n",
       "        1229.4235 , 1097.2537 ,  490.75983, 1138.159  , 1374.2787 ,\n",
       "        1242.4777 , 1536.2577 ,  643.55334, 1325.9547 , 1166.1057 ,\n",
       "        1141.3003 , 1042.5482 ], dtype=float32)]"
      ]
     },
     "execution_count": 45,
     "metadata": {},
     "output_type": "execute_result"
    }
   ],
   "source": [
    "preds[1]"
   ]
  },
  {
   "cell_type": "markdown",
   "metadata": {},
   "source": [
    "## Two Layer Neural Network"
   ]
  },
  {
   "cell_type": "code",
   "execution_count": 13,
   "metadata": {},
   "outputs": [
    {
     "data": {
      "application/vnd.jupyter.widget-view+json": {
       "model_id": "38d82d5310904dc4ac40f9846a854727",
       "version_major": 2,
       "version_minor": 0
      },
      "text/plain": [
       "HBox(children=(IntProgress(value=0, description='Training', max=10), HTML(value='')))"
      ]
     },
     "metadata": {},
     "output_type": "display_data"
    },
    {
     "data": {
      "application/vnd.jupyter.widget-view+json": {
       "model_id": "",
       "version_major": 2,
       "version_minor": 0
      },
      "text/plain": [
       "HBox(children=(IntProgress(value=0, max=354), HTML(value='')))"
      ]
     },
     "metadata": {},
     "output_type": "display_data"
    },
    {
     "data": {
      "application/vnd.jupyter.widget-view+json": {
       "model_id": "",
       "version_major": 2,
       "version_minor": 0
      },
      "text/plain": [
       "HBox(children=(IntProgress(value=0, max=118), HTML(value='')))"
      ]
     },
     "metadata": {},
     "output_type": "display_data"
    },
    {
     "data": {
      "application/vnd.jupyter.widget-view+json": {
       "model_id": "",
       "version_major": 2,
       "version_minor": 0
      },
      "text/plain": [
       "HBox(children=(IntProgress(value=0, max=354), HTML(value='')))"
      ]
     },
     "metadata": {},
     "output_type": "display_data"
    },
    {
     "data": {
      "application/vnd.jupyter.widget-view+json": {
       "model_id": "",
       "version_major": 2,
       "version_minor": 0
      },
      "text/plain": [
       "HBox(children=(IntProgress(value=0, max=118), HTML(value='')))"
      ]
     },
     "metadata": {},
     "output_type": "display_data"
    },
    {
     "data": {
      "application/vnd.jupyter.widget-view+json": {
       "model_id": "",
       "version_major": 2,
       "version_minor": 0
      },
      "text/plain": [
       "HBox(children=(IntProgress(value=0, max=354), HTML(value='')))"
      ]
     },
     "metadata": {},
     "output_type": "display_data"
    },
    {
     "data": {
      "application/vnd.jupyter.widget-view+json": {
       "model_id": "",
       "version_major": 2,
       "version_minor": 0
      },
      "text/plain": [
       "HBox(children=(IntProgress(value=0, max=118), HTML(value='')))"
      ]
     },
     "metadata": {},
     "output_type": "display_data"
    },
    {
     "data": {
      "application/vnd.jupyter.widget-view+json": {
       "model_id": "",
       "version_major": 2,
       "version_minor": 0
      },
      "text/plain": [
       "HBox(children=(IntProgress(value=0, max=354), HTML(value='')))"
      ]
     },
     "metadata": {},
     "output_type": "display_data"
    },
    {
     "data": {
      "application/vnd.jupyter.widget-view+json": {
       "model_id": "",
       "version_major": 2,
       "version_minor": 0
      },
      "text/plain": [
       "HBox(children=(IntProgress(value=0, max=118), HTML(value='')))"
      ]
     },
     "metadata": {},
     "output_type": "display_data"
    },
    {
     "data": {
      "application/vnd.jupyter.widget-view+json": {
       "model_id": "",
       "version_major": 2,
       "version_minor": 0
      },
      "text/plain": [
       "HBox(children=(IntProgress(value=0, max=354), HTML(value='')))"
      ]
     },
     "metadata": {},
     "output_type": "display_data"
    },
    {
     "data": {
      "application/vnd.jupyter.widget-view+json": {
       "model_id": "",
       "version_major": 2,
       "version_minor": 0
      },
      "text/plain": [
       "HBox(children=(IntProgress(value=0, max=118), HTML(value='')))"
      ]
     },
     "metadata": {},
     "output_type": "display_data"
    },
    {
     "data": {
      "application/vnd.jupyter.widget-view+json": {
       "model_id": "",
       "version_major": 2,
       "version_minor": 0
      },
      "text/plain": [
       "HBox(children=(IntProgress(value=0, max=354), HTML(value='')))"
      ]
     },
     "metadata": {},
     "output_type": "display_data"
    },
    {
     "data": {
      "application/vnd.jupyter.widget-view+json": {
       "model_id": "",
       "version_major": 2,
       "version_minor": 0
      },
      "text/plain": [
       "HBox(children=(IntProgress(value=0, max=118), HTML(value='')))"
      ]
     },
     "metadata": {},
     "output_type": "display_data"
    },
    {
     "data": {
      "application/vnd.jupyter.widget-view+json": {
       "model_id": "",
       "version_major": 2,
       "version_minor": 0
      },
      "text/plain": [
       "HBox(children=(IntProgress(value=0, max=354), HTML(value='')))"
      ]
     },
     "metadata": {},
     "output_type": "display_data"
    },
    {
     "data": {
      "application/vnd.jupyter.widget-view+json": {
       "model_id": "",
       "version_major": 2,
       "version_minor": 0
      },
      "text/plain": [
       "HBox(children=(IntProgress(value=0, max=118), HTML(value='')))"
      ]
     },
     "metadata": {},
     "output_type": "display_data"
    },
    {
     "data": {
      "application/vnd.jupyter.widget-view+json": {
       "model_id": "",
       "version_major": 2,
       "version_minor": 0
      },
      "text/plain": [
       "HBox(children=(IntProgress(value=0, max=354), HTML(value='')))"
      ]
     },
     "metadata": {},
     "output_type": "display_data"
    },
    {
     "data": {
      "application/vnd.jupyter.widget-view+json": {
       "model_id": "",
       "version_major": 2,
       "version_minor": 0
      },
      "text/plain": [
       "HBox(children=(IntProgress(value=0, max=118), HTML(value='')))"
      ]
     },
     "metadata": {},
     "output_type": "display_data"
    },
    {
     "data": {
      "application/vnd.jupyter.widget-view+json": {
       "model_id": "",
       "version_major": 2,
       "version_minor": 0
      },
      "text/plain": [
       "HBox(children=(IntProgress(value=0, max=354), HTML(value='')))"
      ]
     },
     "metadata": {},
     "output_type": "display_data"
    },
    {
     "data": {
      "application/vnd.jupyter.widget-view+json": {
       "model_id": "",
       "version_major": 2,
       "version_minor": 0
      },
      "text/plain": [
       "HBox(children=(IntProgress(value=0, max=118), HTML(value='')))"
      ]
     },
     "metadata": {},
     "output_type": "display_data"
    },
    {
     "data": {
      "application/vnd.jupyter.widget-view+json": {
       "model_id": "",
       "version_major": 2,
       "version_minor": 0
      },
      "text/plain": [
       "HBox(children=(IntProgress(value=0, max=354), HTML(value='')))"
      ]
     },
     "metadata": {},
     "output_type": "display_data"
    },
    {
     "data": {
      "application/vnd.jupyter.widget-view+json": {
       "model_id": "",
       "version_major": 2,
       "version_minor": 0
      },
      "text/plain": [
       "HBox(children=(IntProgress(value=0, max=118), HTML(value='')))"
      ]
     },
     "metadata": {},
     "output_type": "display_data"
    },
    {
     "name": "stdout",
     "output_type": "stream",
     "text": [
      "\n"
     ]
    },
    {
     "data": {
      "image/png": "[encoded data removed]",
      "text/plain": [
       "<matplotlib.figure.Figure at 0x22ffc9afc50>"
      ]
     },
     "metadata": {},
     "output_type": "display_data"
    }
   ],
   "source": [
    "from imports import *\n",
    "from torch_imports import *\n",
    "from networks import *\n",
    "if __name__ == '__main__':\n",
    "    md = ModelData(trn=trn, val=val, y='Close', drop=['Date'], ds=StockDataset, op=StandardScaler())\n",
    "    md.makeDataLoaders(bs=32, shuffle=True, num_workers=0)\n",
    "    \n",
    "    model = TwoLayerNeuralNetwork(input_size=5, layer1_size=32, layer2_size=16, output_size=1)\n",
    "    opt = optim.SGD(model.parameters(), lr=.1)\n",
    "    \n",
    "    NN1_trainer = Trainer(md)\n",
    "    NN1_trainer.train(model, n_epochs=10, opt=opt, crit=F.mse_loss, plot_result=True)"
   ]
  },
  {
   "cell_type": "markdown",
   "metadata": {
    "heading_collapsed": true
   },
   "source": [
    "# Working on a LivePlot"
   ]
  },
  {
   "cell_type": "code",
   "execution_count": null,
   "metadata": {
    "collapsed": true,
    "hidden": true
   },
   "outputs": [],
   "source": [
    "# class LivePlotNotebook(object):\n",
    "#     \"\"\"\n",
    "#     Live plot using %matplotlib notebook in jupyter notebook\n",
    "    \n",
    "#     Usage:\n",
    "#     ```\n",
    "#     import time\n",
    "#     liveplot = LivePlotNotebook()\n",
    "#     x=np.random.random((10,))\n",
    "#     for i in range(10):\n",
    "#         time.sleep(1)\n",
    "#         liveplot.update(\n",
    "#             x=x+np.random.random(x.shape)/10,\n",
    "#             actions=np.random.randint(0, 3, size=(10,))\n",
    "#         )\n",
    "#     ```\n",
    "    \n",
    "#     url:\n",
    "#     \"\"\"\n",
    "\n",
    "#     def __init__(self):\n",
    "#         %matplotlib notebook\n",
    "#         fig,ax = plt.subplots(1,1)\n",
    "        \n",
    "#         ax.plot([0]*20, label='train')\n",
    "#         ax.plot([0]*20, label='valid')\n",
    "# #         ax.plot([0]*20, [1]*20, 'o', markersize=12,c='gray', label='hold')\n",
    "# #         ax.plot([0]*20, [0]*20, '^', ms=12,c='blue', label='buy' )\n",
    "# #         ax.plot([0]*20, [0]*20, 'v', ms=12,c='red', label='sell')\n",
    "        \n",
    "#         ax.set_xlim(0,1)\n",
    "#         ax.set_ylim(0,1)\n",
    "#         ax.legend()\n",
    "#         ax.set_xlabel('epochs')\n",
    "#         ax.grid()\n",
    "#         ax.set_title('Losses')\n",
    "        \n",
    "#         self.ax = ax\n",
    "#         self.fig = fig\n",
    "\n",
    "#     def update(self, trn_loss, val_loss):             \n",
    "#         # update price\n",
    "#         trn_line = self.ax.lines[0]\n",
    "#         trn_line.set_xdata(range(len(trn_loss)))\n",
    "#         trn_line.set_ydata(trn_loss)\n",
    "        \n",
    "#         val_line = self.ax.lines[1]\n",
    "#         val_line.set_xdata(range(len(val_loss)))\n",
    "#         val_line.set_ydata(val_loss)\n",
    "        \n",
    "#         # update action plots\n",
    "# #         for i, line in enumerate(self.ax.lines[1:]):\n",
    "# #             line.set_xdata(np.argwhere(actions==i).T)\n",
    "# #             line.set_ydata(x[actions==i])\n",
    "\n",
    "#         # update limits\n",
    "#         self.ax.set_xlim(0, len(trn_loss))\n",
    "#         self.ax.set_ylim(min(min(trn_loss),min(val_loss)), max(max(trn_loss),max(val_loss)))\n",
    "\n",
    "#         self.fig.canvas.draw()\n",
    "        \n",
    "# # Test\n",
    "# import time\n",
    "# liveplot = LivePlotNotebook()\n",
    "# x=[1]\n",
    "# x2=[2]\n",
    "# for i in range(10):\n",
    "#     time.sleep(1)\n",
    "#     print(x)\n",
    "#     x.append(random.randint(1,2))\n",
    "#     x2.append(random.randint(1,2))\n",
    "#     liveplot.update(\n",
    "#         trn_loss=x,\n",
    "#         val_loss=x2,\n",
    "#     )"
   ]
  },
  {
   "cell_type": "code",
   "execution_count": null,
   "metadata": {
    "collapsed": true,
    "hidden": true
   },
   "outputs": [],
   "source": []
  }
 ],
 "metadata": {
  "kernelspec": {
   "display_name": "Python 3",
   "language": "python",
   "name": "python3"
  },
  "language_info": {
   "codemirror_mode": {
    "name": "ipython",
    "version": 3
   },
   "file_extension": ".py",
   "mimetype": "text/x-python",
   "name": "python",
   "nbconvert_exporter": "python",
   "pygments_lexer": "ipython3",
   "version": "3.6.3"
  },
  "toc": {
   "base_numbering": 1,
   "nav_menu": {},
   "number_sections": true,
   "sideBar": true,
   "skip_h1_title": false,
   "title_cell": "Table of Contents",
   "title_sidebar": "Contents",
   "toc_cell": false,
   "toc_position": {},
   "toc_section_display": true,
   "toc_window_display": false
  },
  "varInspector": {
   "cols": {
    "lenName": 16,
    "lenType": 16,
    "lenVar": 40
   },
   "kernels_config": {
    "python": {
     "delete_cmd_postfix": "",
     "delete_cmd_prefix": "del ",
     "library": "var_list.py",
     "varRefreshCmd": "print(var_dic_list())"
    },
    "r": {
     "delete_cmd_postfix": ") ",
     "delete_cmd_prefix": "rm(",
     "library": "var_list.r",
     "varRefreshCmd": "cat(var_dic_list()) "
    }
   },
   "types_to_exclude": [
    "module",
    "function",
    "builtin_function_or_method",
    "instance",
    "_Feature"
   ],
   "window_display": false
  }
 },
 "nbformat": 4,
 "nbformat_minor": 2
}
