{
 "cells": [
  {
   "cell_type": "code",
   "execution_count": 34,
   "metadata": {},
   "outputs": [],
   "source": [
    "# warnings: make warnings only appear once\n",
    "import warnings\n",
    "warnings.filterwarnings('ignore')\n",
    "warnings.filterwarnings(action='once')\n",
    "\n",
    "%reload_ext autoreload\n",
    "%autoreload 2\n",
    "%matplotlib inline"
   ]
  },
  {
   "cell_type": "markdown",
   "metadata": {},
   "source": [
    "# Plots"
   ]
  },
  {
   "cell_type": "code",
   "execution_count": 35,
   "metadata": {
    "collapsed": true
   },
   "outputs": [],
   "source": [
    "import pandas as pd\n",
    "import numpy as np\n",
    "import matplotlib.pyplot as plt"
   ]
  },
  {
   "cell_type": "code",
   "execution_count": 36,
   "metadata": {
    "collapsed": true
   },
   "outputs": [],
   "source": [
    "def plot_missing_in_features(*dataframes, **kwargs):\n",
    "    '''\n",
    "        Given pandas csv(s), plot the numbeer of missing values for each feature\n",
    "    '''\n",
    "    names = None\n",
    "    if 'names' in kwargs:\n",
    "        names = kwargs['names']\n",
    "    for i, df in enumerate(dataframes):\n",
    "        fig = plt.figure(i, figsize=(10,2))\n",
    "        missing = df.isnull().sum()\n",
    "        missing.sort_values(inplace=True)\n",
    "        ax = fig.add_subplot(missing.plot.bar())\n",
    "        if names:\n",
    "            ax.set_title(names[i])\n",
    "    plt.show()\n",
    "    "
   ]
  },
  {
   "cell_type": "code",
   "execution_count": 37,
   "metadata": {},
   "outputs": [],
   "source": [
    "import pandas as pd\n",
    "import matplotlib.pyplot as plt\n",
    "import datetime\n",
    "from mpl_finance import candlestick_ohlc\n",
    "import matplotlib.dates as mdates"
   ]
  },
  {
   "cell_type": "code",
   "execution_count": 38,
   "metadata": {
    "collapsed": true
   },
   "outputs": [],
   "source": [
    "def plot_ohlc(*dataframes, Date='Date', Open='Open', High='High', Low='Low', Close='Close'):\n",
    "    ''' Given pandas csv(s), plot OHLC chart\n",
    "        https://www.techtrekking.com/how-to-plot-simple-and-candlestick-chart-using-python-pandas-matplotlib/\n",
    "        It takes like 30 seconds to plot\n",
    "        Args:\n",
    "            dataframes (pandas DataFrame) : dataframe(s) to plot\n",
    "            open  (str) : feature name in dataframe(s) that has opening price\n",
    "            close (str) : same as open\n",
    "            low   (str) : same as open\n",
    "            high  (str) : same as open\n",
    "    '''\n",
    "    \n",
    "    for i,df in enumerate(dataframes):\n",
    "        # Converting date to pandas datetime format\n",
    "        df_ = df.copy()\n",
    "        df_['Date'] = pd.to_datetime(df_['Date'])\n",
    "        df_[\"Date\"] = df_[\"Date\"].apply(mdates.date2num)\n",
    "        \n",
    "        # Creating required data in new DataFrame OHLC\n",
    "        ohlc= df_[[Date, Open, High, Low,Close]].copy()\n",
    "        f1, ax = plt.subplots(figsize = (10,5))\n",
    "        \n",
    "        # plot the candlesticks\n",
    "        candlestick_ohlc(ax, ohlc.values, width=.6, colorup='green', colordown='red')\n",
    "        ax.xaxis.set_major_formatter(mdates.DateFormatter('%Y-%m'))\n",
    "    plt.show()\n"
   ]
  },
  {
   "cell_type": "markdown",
   "metadata": {},
   "source": [
    "# Pytorch"
   ]
  },
  {
   "cell_type": "code",
   "execution_count": 39,
   "metadata": {
    "collapsed": true
   },
   "outputs": [],
   "source": [
    "import torch.nn as nn\n",
    "import torch.autograd\n",
    "import torch.nn.functional as F\n",
    "import torch\n",
    "from torch.utils.data import DataLoader, Dataset\n",
    "import torch.optim as optim"
   ]
  },
  {
   "cell_type": "code",
   "execution_count": null,
   "metadata": {
    "collapsed": true
   },
   "outputs": [],
   "source": []
  },
  {
   "cell_type": "markdown",
   "metadata": {},
   "source": [
    "Dataloaders"
   ]
  },
  {
   "cell_type": "code",
   "execution_count": 41,
   "metadata": {},
   "outputs": [],
   "source": [
    "def showFirstBatch(dl : DataLoader):\n",
    "    it = iter(dl)\n",
    "    x = next(it)\n",
    "    print(x)"
   ]
  },
  {
   "cell_type": "code",
   "execution_count": null,
   "metadata": {
    "collapsed": true
   },
   "outputs": [],
   "source": []
  }
 ],
 "metadata": {
  "kernelspec": {
   "display_name": "Python 3",
   "language": "python",
   "name": "python3"
  },
  "language_info": {
   "codemirror_mode": {
    "name": "ipython",
    "version": 3
   },
   "file_extension": ".py",
   "mimetype": "text/x-python",
   "name": "python",
   "nbconvert_exporter": "python",
   "pygments_lexer": "ipython3",
   "version": "3.6.3"
  },
  "toc": {
   "base_numbering": 1,
   "nav_menu": {},
   "number_sections": true,
   "sideBar": true,
   "skip_h1_title": false,
   "title_cell": "Table of Contents",
   "title_sidebar": "Contents",
   "toc_cell": false,
   "toc_position": {},
   "toc_section_display": true,
   "toc_window_display": false
  },
  "varInspector": {
   "cols": {
    "lenName": 16,
    "lenType": 16,
    "lenVar": 40
   },
   "kernels_config": {
    "python": {
     "delete_cmd_postfix": "",
     "delete_cmd_prefix": "del ",
     "library": "var_list.py",
     "varRefreshCmd": "print(var_dic_list())"
    },
    "r": {
     "delete_cmd_postfix": ") ",
     "delete_cmd_prefix": "rm(",
     "library": "var_list.r",
     "varRefreshCmd": "cat(var_dic_list()) "
    }
   },
   "types_to_exclude": [
    "module",
    "function",
    "builtin_function_or_method",
    "instance",
    "_Feature"
   ],
   "window_display": false
  }
 },
 "nbformat": 4,
 "nbformat_minor": 2
}
