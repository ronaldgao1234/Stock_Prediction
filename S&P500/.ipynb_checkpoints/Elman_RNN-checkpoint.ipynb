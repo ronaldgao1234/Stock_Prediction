{
 "cells": [
  {
   "cell_type": "code",
   "execution_count": 23,
   "metadata": {
    "collapsed": true
   },
   "outputs": [],
   "source": [
    "import torch\n",
    "import numpy as np\n",
    "import pylab as pl\n",
    "import torch.nn.init as init\n",
    "\n",
    "# Online Guide: https://www.cpuheater.com/deep-learning/introduction-to-recurrent-neural-networks-in-pytorch/"
   ]
  },
  {
   "cell_type": "code",
   "execution_count": 3,
   "metadata": {
    "collapsed": true
   },
   "outputs": [],
   "source": [
    "dtype = torch.FloatTensor\n",
    "# since we're feeding our model with one data point at a time that is why we only need one input neuron\n",
    "input_size, hidden_size, output_size = 7, 6, 1 \n",
    "epochs = 200\n",
    "seq_length = 20 # length of input and target sequence\n",
    "lr = 0.1"
   ]
  },
  {
   "cell_type": "code",
   "execution_count": 47,
   "metadata": {},
   "outputs": [],
   "source": [
    "# Generate training data, where x is an input sequence and y is a target sequence\n",
    "data_time_steps = np.linspace(2, 10, seq_length+10)\n",
    "data = np.sin(data_time_steps)\n",
    "data.resize((seq_length + 1, 1))\n",
    "x = torch.tensor(data[:-1], requires_grad=False).type(dtype)\n",
    "y = torch.tensor(data[1:], requires_grad=False).type(dtype)"
   ]
  },
  {
   "cell_type": "code",
   "execution_count": 55,
   "metadata": {},
   "outputs": [
    {
     "data": {
      "text/plain": [
       "tensor([[ 0.1564, -0.1406, -0.0487, -0.1053,  0.4344, -0.4202],\n",
       "        [-0.2408,  0.1159,  0.3139,  0.4602,  0.0101, -0.1465],\n",
       "        [-0.4199, -0.7168, -0.1937,  0.8052, -0.4317, -0.2064],\n",
       "        [ 0.0391,  0.5660,  0.1237,  0.0527,  1.1082, -0.3122],\n",
       "        [ 0.0246,  0.5089,  0.7503, -0.3400, -0.2328, -0.5921],\n",
       "        [-0.1697,  0.5258,  0.0692, -0.2204, -0.2633,  0.5567],\n",
       "        [-0.1313, -0.0408, -0.2508,  0.3523,  0.2006, -0.2245]],\n",
       "       requires_grad=True)"
      ]
     },
     "execution_count": 55,
     "metadata": {},
     "output_type": "execute_result"
    }
   ],
   "source": [
    "w1 = torch.empty((input_size, hidden_size), requires_grad=True).type(dtype)\n",
    "init.normal_(w1, 0.0, 0.4)\n",
    "w2 = torch.empty((hidden_size, output_size), requires_grad=True).type(dtype)\n",
    "init.normal_(w2, 0.0, 0.3)"
   ]
  },
  {
   "cell_type": "code",
   "execution_count": 56,
   "metadata": {
    "collapsed": true
   },
   "outputs": [],
   "source": [
    "# Define a forward method\n",
    "def forward(input_, context_state, w1, w2):\n",
    "    xh = torch.cat((input_, context_state), 1)\n",
    "    context_state = torch.tanh(xh.mm(w1))\n",
    "    out = context_state.mm(w2)\n",
    "    return (out, context_state)"
   ]
  },
  {
   "cell_type": "code",
   "execution_count": null,
   "metadata": {
    "collapsed": true
   },
   "outputs": [],
   "source": [
    "for i in range(epochs):\n",
    "    total_loss = 0\n",
    "    context_state = torch.zeros((1, hidden_size), requires_grad=True).type(dtype)\n",
    "    for j in range(x.size(0)):"
   ]
  }
 ],
 "metadata": {
  "kernelspec": {
   "display_name": "Python 3",
   "language": "python",
   "name": "python3"
  },
  "language_info": {
   "codemirror_mode": {
    "name": "ipython",
    "version": 3
   },
   "file_extension": ".py",
   "mimetype": "text/x-python",
   "name": "python",
   "nbconvert_exporter": "python",
   "pygments_lexer": "ipython3",
   "version": "3.6.3"
  },
  "toc": {
   "base_numbering": 1,
   "nav_menu": {},
   "number_sections": true,
   "sideBar": true,
   "skip_h1_title": false,
   "title_cell": "Table of Contents",
   "title_sidebar": "Contents",
   "toc_cell": false,
   "toc_position": {},
   "toc_section_display": true,
   "toc_window_display": false
  },
  "varInspector": {
   "cols": {
    "lenName": 16,
    "lenType": 16,
    "lenVar": 40
   },
   "kernels_config": {
    "python": {
     "delete_cmd_postfix": "",
     "delete_cmd_prefix": "del ",
     "library": "var_list.py",
     "varRefreshCmd": "print(var_dic_list())"
    },
    "r": {
     "delete_cmd_postfix": ") ",
     "delete_cmd_prefix": "rm(",
     "library": "var_list.r",
     "varRefreshCmd": "cat(var_dic_list()) "
    }
   },
   "types_to_exclude": [
    "module",
    "function",
    "builtin_function_or_method",
    "instance",
    "_Feature"
   ],
   "window_display": false
  }
 },
 "nbformat": 4,
 "nbformat_minor": 2
}
