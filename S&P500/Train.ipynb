{
 "cells": [
  {
   "cell_type": "code",
   "execution_count": 1,
   "metadata": {
    "collapsed": true
   },
   "outputs": [],
   "source": [
    "%reload_ext autoreload\n",
    "%autoreload 2\n",
    "%matplotlib inline"
   ]
  },
  {
   "cell_type": "code",
   "execution_count": 16,
   "metadata": {},
   "outputs": [],
   "source": [
    "from imports import *\n",
    "from torch_imports import *\n",
    "from plots import *"
   ]
  },
  {
   "cell_type": "markdown",
   "metadata": {},
   "source": [
    "# Data Collection/Cleaning/Preprocessing"
   ]
  },
  {
   "cell_type": "markdown",
   "metadata": {},
   "source": [
    "## Imports\n",
    "- Given OHLC, we're going to be predicting the closing prices"
   ]
  },
  {
   "cell_type": "code",
   "execution_count": 3,
   "metadata": {
    "collapsed": true
   },
   "outputs": [],
   "source": [
    "df = pd.read_csv('data/data.csv')"
   ]
  },
  {
   "cell_type": "code",
   "execution_count": 4,
   "metadata": {},
   "outputs": [
    {
     "data": {
      "text/html": [
       "<div>\n",
       "<style scoped>\n",
       "    .dataframe tbody tr th:only-of-type {\n",
       "        vertical-align: middle;\n",
       "    }\n",
       "\n",
       "    .dataframe tbody tr th {\n",
       "        vertical-align: top;\n",
       "    }\n",
       "\n",
       "    .dataframe thead th {\n",
       "        text-align: right;\n",
       "    }\n",
       "</style>\n",
       "<table border=\"1\" class=\"dataframe\">\n",
       "  <thead>\n",
       "    <tr style=\"text-align: right;\">\n",
       "      <th></th>\n",
       "      <th>Date</th>\n",
       "      <th>Open</th>\n",
       "      <th>High</th>\n",
       "      <th>Low</th>\n",
       "      <th>Close</th>\n",
       "      <th>Adj Close</th>\n",
       "      <th>Volume</th>\n",
       "    </tr>\n",
       "  </thead>\n",
       "  <tbody>\n",
       "    <tr>\n",
       "      <th>0</th>\n",
       "      <td>1950-01-03</td>\n",
       "      <td>16.66</td>\n",
       "      <td>16.66</td>\n",
       "      <td>16.66</td>\n",
       "      <td>16.66</td>\n",
       "      <td>16.66</td>\n",
       "      <td>1260000</td>\n",
       "    </tr>\n",
       "    <tr>\n",
       "      <th>1</th>\n",
       "      <td>1950-01-04</td>\n",
       "      <td>16.85</td>\n",
       "      <td>16.85</td>\n",
       "      <td>16.85</td>\n",
       "      <td>16.85</td>\n",
       "      <td>16.85</td>\n",
       "      <td>1890000</td>\n",
       "    </tr>\n",
       "    <tr>\n",
       "      <th>2</th>\n",
       "      <td>1950-01-05</td>\n",
       "      <td>16.93</td>\n",
       "      <td>16.93</td>\n",
       "      <td>16.93</td>\n",
       "      <td>16.93</td>\n",
       "      <td>16.93</td>\n",
       "      <td>2550000</td>\n",
       "    </tr>\n",
       "    <tr>\n",
       "      <th>3</th>\n",
       "      <td>1950-01-06</td>\n",
       "      <td>16.98</td>\n",
       "      <td>16.98</td>\n",
       "      <td>16.98</td>\n",
       "      <td>16.98</td>\n",
       "      <td>16.98</td>\n",
       "      <td>2010000</td>\n",
       "    </tr>\n",
       "    <tr>\n",
       "      <th>4</th>\n",
       "      <td>1950-01-09</td>\n",
       "      <td>17.08</td>\n",
       "      <td>17.08</td>\n",
       "      <td>17.08</td>\n",
       "      <td>17.08</td>\n",
       "      <td>17.08</td>\n",
       "      <td>2520000</td>\n",
       "    </tr>\n",
       "  </tbody>\n",
       "</table>\n",
       "</div>"
      ],
      "text/plain": [
       "         Date   Open   High    Low  Close  Adj Close   Volume\n",
       "0  1950-01-03  16.66  16.66  16.66  16.66      16.66  1260000\n",
       "1  1950-01-04  16.85  16.85  16.85  16.85      16.85  1890000\n",
       "2  1950-01-05  16.93  16.93  16.93  16.93      16.93  2550000\n",
       "3  1950-01-06  16.98  16.98  16.98  16.98      16.98  2010000\n",
       "4  1950-01-09  17.08  17.08  17.08  17.08      17.08  2520000"
      ]
     },
     "execution_count": 4,
     "metadata": {},
     "output_type": "execute_result"
    }
   ],
   "source": [
    "df.head()"
   ]
  },
  {
   "cell_type": "markdown",
   "metadata": {},
   "source": [
    "## Understand the data"
   ]
  },
  {
   "cell_type": "code",
   "execution_count": 20,
   "metadata": {
    "scrolled": true
   },
   "outputs": [
    {
     "data": {
      "image/png": "[encoded data removed]",
      "text/plain": [
       "<matplotlib.figure.Figure at 0x22ffee78668>"
      ]
     },
     "metadata": {},
     "output_type": "display_data"
    }
   ],
   "source": [
    "plot_ohlc(df)"
   ]
  },
  {
   "cell_type": "markdown",
   "metadata": {
    "heading_collapsed": true
   },
   "source": [
    "## Missing Values"
   ]
  },
  {
   "cell_type": "code",
   "execution_count": null,
   "metadata": {
    "collapsed": true,
    "hidden": true
   },
   "outputs": [],
   "source": [
    "plot_missing_in_features(df)"
   ]
  },
  {
   "cell_type": "markdown",
   "metadata": {
    "hidden": true
   },
   "source": [
    "no missing values in any features"
   ]
  },
  {
   "cell_type": "markdown",
   "metadata": {
    "heading_collapsed": true
   },
   "source": [
    "## Features\n",
    "\n",
    "Besides date, everything is ordinal"
   ]
  },
  {
   "cell_type": "markdown",
   "metadata": {},
   "source": [
    "## Split\n",
    "- Option 1: Use 25% of last training data as validation set\n",
    "- Option 2: Use the same length of time period as the test case uses \n",
    "- Sorta Option 3: sorta like kfold cross val. but a nested cv for sure\n",
    "    - https://towardsdatascience.com/time-series-nested-cross-validation-76adba623eb9"
   ]
  },
  {
   "cell_type": "code",
   "execution_count": 177,
   "metadata": {},
   "outputs": [
    {
     "name": "stdout",
     "output_type": "stream",
     "text": [
      "13594 1510\n"
     ]
    }
   ],
   "source": [
    "# For now use Option 1\n",
    "trn_size = len(df) - int(.10 * len(df))\n",
    "val_idx = range(trn_size, len(df))     # get tail end of df\n",
    "trn_idx = range(trn_size)\n",
    "val = df.iloc[val_idx,]\n",
    "trn = df.iloc[trn_idx,]\n",
    "print(len(trn), len(val))\n",
    "# dropping Date just for neural networks\n",
    "# trn_X = trn.drop(['Date','Close'],axis=1)\n",
    "# trn_y = trn['Close']\n",
    "# val_X = val.drop(['Date', 'Close'],axis=1)\n",
    "val_y = val['Close']"
   ]
  },
  {
   "cell_type": "code",
   "execution_count": 178,
   "metadata": {},
   "outputs": [
    {
     "data": {
      "image/png": "[encoded data removed]",
      "text/plain": [
       "<matplotlib.figure.Figure at 0x22f90396518>"
      ]
     },
     "metadata": {},
     "output_type": "display_data"
    }
   ],
   "source": [
    "plot_ohlc(trn)"
   ]
  },
  {
   "cell_type": "code",
   "execution_count": 179,
   "metadata": {},
   "outputs": [
    {
     "data": {
      "image/png": "[encoded data removed]",
      "text/plain": [
       "<matplotlib.figure.Figure at 0x22f90bf9b38>"
      ]
     },
     "metadata": {},
     "output_type": "display_data"
    }
   ],
   "source": [
    "plot_ohlc(val)"
   ]
  },
  {
   "cell_type": "markdown",
   "metadata": {
    "heading_collapsed": true
   },
   "source": [
    "## Standardize and normalize\n",
    "\n",
    "- Since its NN should use batchnorm\n",
    "- don't forget to standardize and normalize test data with same mapper"
   ]
  },
  {
   "cell_type": "code",
   "execution_count": 24,
   "metadata": {
    "collapsed": true,
    "hidden": true
   },
   "outputs": [],
   "source": [
    "# # Normalize range to 0-1\n",
    "# from sklearn.preprocessing import MinMaxScaler\n",
    "# trn_norm_data = trn_X.copy()\n",
    "# val_norm_data = val_X.copy()\n",
    "# scaler = MinMaxScaler(feature_range=(0,1))\n",
    "# scaler = scaler.fit(trn_norm_data)\n",
    "# trn_norm_X = scaler.transform(trn_norm_data)\n",
    "# val_norm_X = scaler.transform(val_norm_data)"
   ]
  },
  {
   "cell_type": "code",
   "execution_count": 25,
   "metadata": {
    "collapsed": true,
    "hidden": true
   },
   "outputs": [],
   "source": [
    "# # Standardize\n",
    "# from sklearn.preprocessing import StandardScaler\n",
    "# norm_data = trn_X.copy()\n",
    "# scaler = StandardScaler()\n",
    "# scaler = scaler.fit(norm_data)\n",
    "# norm_data = scaler.transform(norm_data)"
   ]
  },
  {
   "cell_type": "markdown",
   "metadata": {},
   "source": [
    "# Custom Dataset for Dataloader"
   ]
  },
  {
   "cell_type": "code",
   "execution_count": 6,
   "metadata": {
    "collapsed": true
   },
   "outputs": [],
   "source": [
    "class StockDataset(Dataset):\n",
    "    def __init__(self, X, y):\n",
    "        self.X = X.astype(np.float32)\n",
    "        y = y.astype(np.float32)\n",
    "        self.y = y[:, np.newaxis]\n",
    "        \n",
    "    def __getitem__(self, index):\n",
    "        return self.X[index], self.y[index]\n",
    "    \n",
    "    def __len__(self):\n",
    "        return len(self.X)"
   ]
  },
  {
   "cell_type": "markdown",
   "metadata": {},
   "source": [
    "# Train"
   ]
  },
  {
   "cell_type": "code",
   "execution_count": 7,
   "metadata": {
    "collapsed": true
   },
   "outputs": [],
   "source": [
    "from sklearn.preprocessing import StandardScaler"
   ]
  },
  {
   "cell_type": "markdown",
   "metadata": {
    "heading_collapsed": true
   },
   "source": [
    "## Train"
   ]
  },
  {
   "cell_type": "code",
   "execution_count": 276,
   "metadata": {
    "collapsed": true,
    "hidden": true
   },
   "outputs": [],
   "source": [
    "class Trainer():\n",
    "    def __init__(self, md, live_plot=False):\n",
    "        (self.trn_dl, self.val_dl) = md.data\n",
    "        self.liveplot = None\n",
    "        self.final_preds = dict()  # key is epoch, and value is the epoch's preds\n",
    "#         if plot: \n",
    "#             %matplotlib notebook\n",
    "#             self.liveplot = LivePlotNotebook()    no live plot yet\n",
    "        \n",
    "    def train(self, model, n_epochs, opt, crit, mom=0.98, plot_result=False):\n",
    "        avg_mom = mom\n",
    "        avg_loss = 0\n",
    "        trn_loss, val_loss = [], []\n",
    "        epoch_trn_loss, epoch_val_loss = 0,0 \n",
    "        model_stepper = Stepper(model, opt, crit)\n",
    "        b = False\n",
    "        for epoch in tnrange(n_epochs, desc=\"Training\"):\n",
    "            batch_num = 0\n",
    "            model_stepper.reset(True) # turns training attribute on \n",
    "            t = tqdm(iter(self.trn_dl), leave=False, total=len(self.trn_dl), miniters=0)\n",
    "            for (X, y) in t:\n",
    "                batch_num += 1\n",
    "                loss = model_stepper.step(X, y, epoch)\n",
    "                avg_loss = avg_loss * avg_mom + loss * (1-avg_mom)\n",
    "                debias_loss = avg_loss / (1 - avg_mom**batch_num)\n",
    "                t.set_postfix(loss=debias_loss, refresh=False)\n",
    "                t.set_description(\"Epoch \" + str(epoch + 1))\n",
    "                epoch_trn_loss = debias_loss\n",
    "            trn_loss.append(debias_loss)\n",
    "\n",
    "            self.final_preds[epoch + 1], batch_cnts, batch_losses = np.asarray([]), [], []\n",
    "            with torch.no_grad():\n",
    "                t = tqdm(iter(self.val_dl), leave=False, total=(len(self.val_dl)), miniters=0)\n",
    "                for (X,y) in t:\n",
    "                    preds, loss = model_stepper.evaluate(X, y)\n",
    "                    self.final_preds[epoch+1] = np.append(self.final_preds[epoch+1], to_np(preds).flatten())\n",
    "                    batch_cnts.append(X[0].shape[0])  # append the batch size\n",
    "                    batch_losses.append(loss)\n",
    "                    epoch_val_loss = loss\n",
    "                    \n",
    "                val_loss.append(np.average(batch_losses, 0, weights=batch_cnts))\n",
    "            print(\"Epoch [{}/{}], MSE Train Loss: {:.4f}, MSE Val Loss: {:.4f}\"\n",
    "                  .format(epoch+1, n_epochs, epoch_trn_loss , epoch_val_loss))\n",
    "        if plot_result:\n",
    "            plt.plot(trn_loss)\n",
    "            plt.plot(val_loss)\n",
    "            plt.legend(['Train', 'Val'], loc=\"upper right\")\n",
    "            plt.show()\n",
    "        return self.final_preds\n"
   ]
  },
  {
   "cell_type": "markdown",
   "metadata": {
    "heading_collapsed": true
   },
   "source": [
    "## Simpler Train"
   ]
  },
  {
   "cell_type": "code",
   "execution_count": 251,
   "metadata": {
    "hidden": true
   },
   "outputs": [],
   "source": [
    "# class Trainer():\n",
    "#     def __init__(self, md, live_plot=False):\n",
    "#         (self.trn_dl, self.val_dl) = md.data\n",
    "#         self.final_preds = dict()  # key is epoch, and value is the epoch's preds\n",
    "        \n",
    "#     def train(self, model, n_epochs, opt, crit, mom=0.98, plot_result=False):\n",
    "#         avg_mom = mom\n",
    "#         avg_loss = 0\n",
    "#         trn_loss, val_loss = [], []    # losses at the end of each epoch\n",
    "#         epoch_trn_loss, epoch_val_loss = 0,0 \n",
    "#         for epoch in tnrange(n_epochs, desc=\"Training\"):\n",
    "#             batch_num = 0\n",
    "#             current_loss = 0\n",
    "#             t = tqdm(iter(self.trn_dl), leave=False, total=len(self.trn_dl), miniters=0)\n",
    "#             for (X, y) in t:\n",
    "#                 batch_num += 1\n",
    "#                 opt.zero_grad()\n",
    "#                 output = model(X)\n",
    "#                 loss = crit(output, y)\n",
    "#                 loss.backward()\n",
    "#                 opt.step()\n",
    "#                 t.set_postfix(loss=loss, refresh=False)\n",
    "#                 t.set_description(\"Epoch \" + str(epoch + 1))\n",
    "#                 epoch_trn_loss = loss\n",
    "#             trn_loss.append(epoch_trn_loss)\n",
    "\n",
    "#             self.final_preds[epoch + 1], batch_cnts= np.asarray([]), []\n",
    "#             with torch.no_grad():\n",
    "#                 t = tqdm(iter(self.val_dl), leave=False, total=(len(self.val_dl)), miniters=0)\n",
    "#                 for (X,y) in t:\n",
    "#                     preds = model(X)\n",
    "#                     loss = crit(preds, y)\n",
    "#                     self.final_preds[epoch+1] = np.append(self.final_preds[epoch+1], to_np(preds).flatten())\n",
    "#                     batch_cnts.append(X[0].shape[0])  # append the batch size\n",
    "#                     epoch_val_loss = loss\n",
    "#                 val_loss.append(epoch_val_loss)\n",
    "        \n",
    "#             print(\"Epoch [{}/{}], MSE Train Loss: {:.4f}, MSE Val Loss: {:.4f}\" \n",
    "#                   .format(epoch+1, n_epochs, epoch_trn_loss , epoch_val_loss))\n",
    "#         if plot_result:\n",
    "#             plt.plot(trn_loss)\n",
    "#             plt.plot(val_loss)\n",
    "#             plt.legend(['Train', 'Val'], loc=\"upper right\")\n",
    "#             plt.show()\n",
    "# #             print(\"Epoch [{}/{}], MSE Train Loss: {:.4f}, MSE Val Loss: {:.4f}\"\n",
    "# #                   .format(epoch+1, n_epochs, trn_loss , val_loss))\n",
    "#         return self.final_preds\n"
   ]
  },
  {
   "cell_type": "markdown",
   "metadata": {},
   "source": [
    "# Trying different networks"
   ]
  },
  {
   "cell_type": "markdown",
   "metadata": {
    "heading_collapsed": true
   },
   "source": [
    "## One Layer Neural Network"
   ]
  },
  {
   "cell_type": "code",
   "execution_count": 281,
   "metadata": {
    "hidden": true,
    "scrolled": true
   },
   "outputs": [
    {
     "data": {
      "application/vnd.jupyter.widget-view+json": {
       "model_id": "09b6349f17464a31a8babaea153532f6",
       "version_major": 2,
       "version_minor": 0
      },
      "text/plain": [
       "HBox(children=(IntProgress(value=0, description='Training', max=10), HTML(value='')))"
      ]
     },
     "metadata": {},
     "output_type": "display_data"
    },
    {
     "data": {
      "application/vnd.jupyter.widget-view+json": {
       "model_id": "",
       "version_major": 2,
       "version_minor": 0
      },
      "text/plain": [
       "HBox(children=(IntProgress(value=0, max=425), HTML(value='')))"
      ]
     },
     "metadata": {},
     "output_type": "display_data"
    },
    {
     "data": {
      "application/vnd.jupyter.widget-view+json": {
       "model_id": "",
       "version_major": 2,
       "version_minor": 0
      },
      "text/plain": [
       "HBox(children=(IntProgress(value=0, max=48), HTML(value='')))"
      ]
     },
     "metadata": {},
     "output_type": "display_data"
    },
    {
     "name": "stdout",
     "output_type": "stream",
     "text": [
      "Epoch [1/10], MSE Train Loss: 365.1201, MSE Val Loss: 23018.2988\n"
     ]
    },
    {
     "data": {
      "application/vnd.jupyter.widget-view+json": {
       "model_id": "",
       "version_major": 2,
       "version_minor": 0
      },
      "text/plain": [
       "HBox(children=(IntProgress(value=0, max=425), HTML(value='')))"
      ]
     },
     "metadata": {},
     "output_type": "display_data"
    },
    {
     "data": {
      "application/vnd.jupyter.widget-view+json": {
       "model_id": "",
       "version_major": 2,
       "version_minor": 0
      },
      "text/plain": [
       "HBox(children=(IntProgress(value=0, max=48), HTML(value='')))"
      ]
     },
     "metadata": {},
     "output_type": "display_data"
    },
    {
     "name": "stdout",
     "output_type": "stream",
     "text": [
      "Epoch [2/10], MSE Train Loss: 264.9953, MSE Val Loss: 1478.2991\n"
     ]
    },
    {
     "data": {
      "application/vnd.jupyter.widget-view+json": {
       "model_id": "",
       "version_major": 2,
       "version_minor": 0
      },
      "text/plain": [
       "HBox(children=(IntProgress(value=0, max=425), HTML(value='')))"
      ]
     },
     "metadata": {},
     "output_type": "display_data"
    },
    {
     "data": {
      "application/vnd.jupyter.widget-view+json": {
       "model_id": "",
       "version_major": 2,
       "version_minor": 0
      },
      "text/plain": [
       "HBox(children=(IntProgress(value=0, max=48), HTML(value='')))"
      ]
     },
     "metadata": {},
     "output_type": "display_data"
    },
    {
     "name": "stdout",
     "output_type": "stream",
     "text": [
      "Epoch [3/10], MSE Train Loss: 256.7837, MSE Val Loss: 8314.8779\n"
     ]
    },
    {
     "data": {
      "application/vnd.jupyter.widget-view+json": {
       "model_id": "",
       "version_major": 2,
       "version_minor": 0
      },
      "text/plain": [
       "HBox(children=(IntProgress(value=0, max=425), HTML(value='')))"
      ]
     },
     "metadata": {},
     "output_type": "display_data"
    },
    {
     "data": {
      "application/vnd.jupyter.widget-view+json": {
       "model_id": "",
       "version_major": 2,
       "version_minor": 0
      },
      "text/plain": [
       "HBox(children=(IntProgress(value=0, max=48), HTML(value='')))"
      ]
     },
     "metadata": {},
     "output_type": "display_data"
    },
    {
     "name": "stdout",
     "output_type": "stream",
     "text": [
      "Epoch [4/10], MSE Train Loss: 262.4250, MSE Val Loss: 6902.7441\n"
     ]
    },
    {
     "data": {
      "application/vnd.jupyter.widget-view+json": {
       "model_id": "",
       "version_major": 2,
       "version_minor": 0
      },
      "text/plain": [
       "HBox(children=(IntProgress(value=0, max=425), HTML(value='')))"
      ]
     },
     "metadata": {},
     "output_type": "display_data"
    },
    {
     "data": {
      "application/vnd.jupyter.widget-view+json": {
       "model_id": "",
       "version_major": 2,
       "version_minor": 0
      },
      "text/plain": [
       "HBox(children=(IntProgress(value=0, max=48), HTML(value='')))"
      ]
     },
     "metadata": {},
     "output_type": "display_data"
    },
    {
     "name": "stdout",
     "output_type": "stream",
     "text": [
      "Epoch [5/10], MSE Train Loss: 255.8339, MSE Val Loss: 1858.1592\n"
     ]
    },
    {
     "data": {
      "application/vnd.jupyter.widget-view+json": {
       "model_id": "",
       "version_major": 2,
       "version_minor": 0
      },
      "text/plain": [
       "HBox(children=(IntProgress(value=0, max=425), HTML(value='')))"
      ]
     },
     "metadata": {},
     "output_type": "display_data"
    },
    {
     "data": {
      "application/vnd.jupyter.widget-view+json": {
       "model_id": "",
       "version_major": 2,
       "version_minor": 0
      },
      "text/plain": [
       "HBox(children=(IntProgress(value=0, max=48), HTML(value='')))"
      ]
     },
     "metadata": {},
     "output_type": "display_data"
    },
    {
     "name": "stdout",
     "output_type": "stream",
     "text": [
      "Epoch [6/10], MSE Train Loss: 263.1237, MSE Val Loss: 5501.2324\n"
     ]
    },
    {
     "data": {
      "application/vnd.jupyter.widget-view+json": {
       "model_id": "",
       "version_major": 2,
       "version_minor": 0
      },
      "text/plain": [
       "HBox(children=(IntProgress(value=0, max=425), HTML(value='')))"
      ]
     },
     "metadata": {},
     "output_type": "display_data"
    },
    {
     "data": {
      "application/vnd.jupyter.widget-view+json": {
       "model_id": "",
       "version_major": 2,
       "version_minor": 0
      },
      "text/plain": [
       "HBox(children=(IntProgress(value=0, max=48), HTML(value='')))"
      ]
     },
     "metadata": {},
     "output_type": "display_data"
    },
    {
     "name": "stdout",
     "output_type": "stream",
     "text": [
      "Epoch [7/10], MSE Train Loss: 249.2500, MSE Val Loss: 12790.5605\n"
     ]
    },
    {
     "data": {
      "application/vnd.jupyter.widget-view+json": {
       "model_id": "",
       "version_major": 2,
       "version_minor": 0
      },
      "text/plain": [
       "HBox(children=(IntProgress(value=0, max=425), HTML(value='')))"
      ]
     },
     "metadata": {},
     "output_type": "display_data"
    },
    {
     "data": {
      "application/vnd.jupyter.widget-view+json": {
       "model_id": "",
       "version_major": 2,
       "version_minor": 0
      },
      "text/plain": [
       "HBox(children=(IntProgress(value=0, max=48), HTML(value='')))"
      ]
     },
     "metadata": {},
     "output_type": "display_data"
    },
    {
     "name": "stdout",
     "output_type": "stream",
     "text": [
      "Epoch [8/10], MSE Train Loss: 253.2347, MSE Val Loss: 425.6439\n"
     ]
    },
    {
     "data": {
      "application/vnd.jupyter.widget-view+json": {
       "model_id": "",
       "version_major": 2,
       "version_minor": 0
      },
      "text/plain": [
       "HBox(children=(IntProgress(value=0, max=425), HTML(value='')))"
      ]
     },
     "metadata": {},
     "output_type": "display_data"
    },
    {
     "data": {
      "application/vnd.jupyter.widget-view+json": {
       "model_id": "",
       "version_major": 2,
       "version_minor": 0
      },
      "text/plain": [
       "HBox(children=(IntProgress(value=0, max=48), HTML(value='')))"
      ]
     },
     "metadata": {},
     "output_type": "display_data"
    },
    {
     "name": "stdout",
     "output_type": "stream",
     "text": [
      "Epoch [9/10], MSE Train Loss: 252.7519, MSE Val Loss: 13476.7295\n"
     ]
    },
    {
     "data": {
      "application/vnd.jupyter.widget-view+json": {
       "model_id": "",
       "version_major": 2,
       "version_minor": 0
      },
      "text/plain": [
       "HBox(children=(IntProgress(value=0, max=425), HTML(value='')))"
      ]
     },
     "metadata": {},
     "output_type": "display_data"
    },
    {
     "data": {
      "application/vnd.jupyter.widget-view+json": {
       "model_id": "",
       "version_major": 2,
       "version_minor": 0
      },
      "text/plain": [
       "HBox(children=(IntProgress(value=0, max=48), HTML(value='')))"
      ]
     },
     "metadata": {},
     "output_type": "display_data"
    },
    {
     "name": "stdout",
     "output_type": "stream",
     "text": [
      "Epoch [10/10], MSE Train Loss: 251.1108, MSE Val Loss: 5223.8706\n"
     ]
    },
    {
     "data": {
      "image/png": "[encoded data removed]",
      "text/plain": [
       "<matplotlib.figure.Figure at 0x22f916e15c0>"
      ]
     },
     "metadata": {},
     "output_type": "display_data"
    }
   ],
   "source": [
    "# %matplotlib notebook\n",
    "from networks import *\n",
    "from imports import *\n",
    "from torch_imports import *\n",
    "\n",
    "if __name__ == '__main__':\n",
    "    md = ModelData(trn=trn, val=val, y='Close', drop=['Date'], ds=StockDataset, op=StandardScaler())\n",
    "    md.makeDataLoaders(bs=32, shuffle=True, num_workers=0)\n",
    "    model = OneLayerNeuralNetwork(input_size=5, output_size=1)\n",
    "    opt = optim.SGD(model.parameters(), lr=.01, weight_decay = 0.1)\n",
    "    NN1_trainer = Trainer(md)\n",
    "    preds = NN1_trainer.train(model, n_epochs=10, opt=opt, crit=F.mse_loss, plot_result=True)"
   ]
  },
  {
   "cell_type": "code",
   "execution_count": 279,
   "metadata": {
    "hidden": true
   },
   "outputs": [
    {
     "data": {
      "text/plain": [
       "[<matplotlib.lines.Line2D at 0x22f91746e80>]"
      ]
     },
     "execution_count": 279,
     "metadata": {},
     "output_type": "execute_result"
    },
    {
     "data": {
      "image/png": "[encoded data removed]",
      "text/plain": [
       "<matplotlib.figure.Figure at 0x22f91746550>"
      ]
     },
     "metadata": {},
     "output_type": "display_data"
    }
   ],
   "source": [
    "plt.plot(preds[6])\n",
    "plt.plot(val_y.values[:3000])"
   ]
  },
  {
   "cell_type": "markdown",
   "metadata": {
    "heading_collapsed": true
   },
   "source": [
    "## Two Layer Neural Network"
   ]
  },
  {
   "cell_type": "code",
   "execution_count": 258,
   "metadata": {
    "hidden": true
   },
   "outputs": [
    {
     "data": {
      "application/vnd.jupyter.widget-view+json": {
       "model_id": "909ef0ca04334819bc2bbb00f18fe271",
       "version_major": 2,
       "version_minor": 0
      },
      "text/plain": [
       "HBox(children=(IntProgress(value=0, description='Training', max=10), HTML(value='')))"
      ]
     },
     "metadata": {},
     "output_type": "display_data"
    },
    {
     "data": {
      "application/vnd.jupyter.widget-view+json": {
       "model_id": "",
       "version_major": 2,
       "version_minor": 0
      },
      "text/plain": [
       "HBox(children=(IntProgress(value=0, max=425), HTML(value='')))"
      ]
     },
     "metadata": {},
     "output_type": "display_data"
    },
    {
     "data": {
      "application/vnd.jupyter.widget-view+json": {
       "model_id": "",
       "version_major": 2,
       "version_minor": 0
      },
      "text/plain": [
       "HBox(children=(IntProgress(value=0, max=48), HTML(value='')))"
      ]
     },
     "metadata": {},
     "output_type": "display_data"
    },
    {
     "data": {
      "application/vnd.jupyter.widget-view+json": {
       "model_id": "",
       "version_major": 2,
       "version_minor": 0
      },
      "text/plain": [
       "HBox(children=(IntProgress(value=0, max=425), HTML(value='')))"
      ]
     },
     "metadata": {},
     "output_type": "display_data"
    },
    {
     "data": {
      "application/vnd.jupyter.widget-view+json": {
       "model_id": "",
       "version_major": 2,
       "version_minor": 0
      },
      "text/plain": [
       "HBox(children=(IntProgress(value=0, max=48), HTML(value='')))"
      ]
     },
     "metadata": {},
     "output_type": "display_data"
    },
    {
     "data": {
      "application/vnd.jupyter.widget-view+json": {
       "model_id": "",
       "version_major": 2,
       "version_minor": 0
      },
      "text/plain": [
       "HBox(children=(IntProgress(value=0, max=425), HTML(value='')))"
      ]
     },
     "metadata": {},
     "output_type": "display_data"
    },
    {
     "data": {
      "application/vnd.jupyter.widget-view+json": {
       "model_id": "",
       "version_major": 2,
       "version_minor": 0
      },
      "text/plain": [
       "HBox(children=(IntProgress(value=0, max=48), HTML(value='')))"
      ]
     },
     "metadata": {},
     "output_type": "display_data"
    },
    {
     "data": {
      "application/vnd.jupyter.widget-view+json": {
       "model_id": "",
       "version_major": 2,
       "version_minor": 0
      },
      "text/plain": [
       "HBox(children=(IntProgress(value=0, max=425), HTML(value='')))"
      ]
     },
     "metadata": {},
     "output_type": "display_data"
    },
    {
     "data": {
      "application/vnd.jupyter.widget-view+json": {
       "model_id": "",
       "version_major": 2,
       "version_minor": 0
      },
      "text/plain": [
       "HBox(children=(IntProgress(value=0, max=48), HTML(value='')))"
      ]
     },
     "metadata": {},
     "output_type": "display_data"
    },
    {
     "data": {
      "application/vnd.jupyter.widget-view+json": {
       "model_id": "",
       "version_major": 2,
       "version_minor": 0
      },
      "text/plain": [
       "HBox(children=(IntProgress(value=0, max=425), HTML(value='')))"
      ]
     },
     "metadata": {},
     "output_type": "display_data"
    },
    {
     "data": {
      "application/vnd.jupyter.widget-view+json": {
       "model_id": "",
       "version_major": 2,
       "version_minor": 0
      },
      "text/plain": [
       "HBox(children=(IntProgress(value=0, max=48), HTML(value='')))"
      ]
     },
     "metadata": {},
     "output_type": "display_data"
    },
    {
     "data": {
      "application/vnd.jupyter.widget-view+json": {
       "model_id": "",
       "version_major": 2,
       "version_minor": 0
      },
      "text/plain": [
       "HBox(children=(IntProgress(value=0, max=425), HTML(value='')))"
      ]
     },
     "metadata": {},
     "output_type": "display_data"
    },
    {
     "data": {
      "application/vnd.jupyter.widget-view+json": {
       "model_id": "",
       "version_major": 2,
       "version_minor": 0
      },
      "text/plain": [
       "HBox(children=(IntProgress(value=0, max=48), HTML(value='')))"
      ]
     },
     "metadata": {},
     "output_type": "display_data"
    },
    {
     "data": {
      "application/vnd.jupyter.widget-view+json": {
       "model_id": "",
       "version_major": 2,
       "version_minor": 0
      },
      "text/plain": [
       "HBox(children=(IntProgress(value=0, max=425), HTML(value='')))"
      ]
     },
     "metadata": {},
     "output_type": "display_data"
    },
    {
     "data": {
      "application/vnd.jupyter.widget-view+json": {
       "model_id": "",
       "version_major": 2,
       "version_minor": 0
      },
      "text/plain": [
       "HBox(children=(IntProgress(value=0, max=48), HTML(value='')))"
      ]
     },
     "metadata": {},
     "output_type": "display_data"
    },
    {
     "data": {
      "application/vnd.jupyter.widget-view+json": {
       "model_id": "",
       "version_major": 2,
       "version_minor": 0
      },
      "text/plain": [
       "HBox(children=(IntProgress(value=0, max=425), HTML(value='')))"
      ]
     },
     "metadata": {},
     "output_type": "display_data"
    },
    {
     "data": {
      "application/vnd.jupyter.widget-view+json": {
       "model_id": "",
       "version_major": 2,
       "version_minor": 0
      },
      "text/plain": [
       "HBox(children=(IntProgress(value=0, max=48), HTML(value='')))"
      ]
     },
     "metadata": {},
     "output_type": "display_data"
    },
    {
     "data": {
      "application/vnd.jupyter.widget-view+json": {
       "model_id": "",
       "version_major": 2,
       "version_minor": 0
      },
      "text/plain": [
       "HBox(children=(IntProgress(value=0, max=425), HTML(value='')))"
      ]
     },
     "metadata": {},
     "output_type": "display_data"
    },
    {
     "data": {
      "application/vnd.jupyter.widget-view+json": {
       "model_id": "",
       "version_major": 2,
       "version_minor": 0
      },
      "text/plain": [
       "HBox(children=(IntProgress(value=0, max=48), HTML(value='')))"
      ]
     },
     "metadata": {},
     "output_type": "display_data"
    },
    {
     "data": {
      "application/vnd.jupyter.widget-view+json": {
       "model_id": "",
       "version_major": 2,
       "version_minor": 0
      },
      "text/plain": [
       "HBox(children=(IntProgress(value=0, max=425), HTML(value='')))"
      ]
     },
     "metadata": {},
     "output_type": "display_data"
    },
    {
     "data": {
      "application/vnd.jupyter.widget-view+json": {
       "model_id": "",
       "version_major": 2,
       "version_minor": 0
      },
      "text/plain": [
       "HBox(children=(IntProgress(value=0, max=48), HTML(value='')))"
      ]
     },
     "metadata": {},
     "output_type": "display_data"
    },
    {
     "name": "stdout",
     "output_type": "stream",
     "text": [
      "\n"
     ]
    },
    {
     "data": {
      "image/png": "[encoded data removed]",
      "text/plain": [
       "<matplotlib.figure.Figure at 0x22f891b2e10>"
      ]
     },
     "metadata": {},
     "output_type": "display_data"
    }
   ],
   "source": [
    "from imports import *\n",
    "from torch_imports import *\n",
    "from networks import *\n",
    "if __name__ == '__main__':\n",
    "    md = ModelData(trn=trn, val=val, y='Close', drop=['Date'], ds=StockDataset, op=StandardScaler())\n",
    "    md.makeDataLoaders(bs=32, shuffle=True, num_workers=0)\n",
    "    \n",
    "    model = TwoLayerNeuralNetwork(input_size=5, layer1_size=32, layer2_size=16, output_size=1)\n",
    "    opt = optim.SGD(model.parameters(), lr=.001)\n",
    "    \n",
    "    NN1_trainer = Trainer(md)\n",
    "    preds = NN1_trainer.train(model, n_epochs=10, opt=opt, crit=F.mse_loss, plot_result=True)"
   ]
  },
  {
   "cell_type": "code",
   "execution_count": 186,
   "metadata": {
    "hidden": true,
    "scrolled": true
   },
   "outputs": [
    {
     "data": {
      "text/plain": [
       "[<matplotlib.lines.Line2D at 0x22f91537240>]"
      ]
     },
     "execution_count": 186,
     "metadata": {},
     "output_type": "execute_result"
    },
    {
     "data": {
      "image/png": "[encoded data removed]",
      "text/plain": [
       "<matplotlib.figure.Figure at 0x22f91537278>"
      ]
     },
     "metadata": {},
     "output_type": "display_data"
    }
   ],
   "source": [
    "plt.plot(preds[9])\n",
    "plt.plot(val_y.values)"
   ]
  },
  {
   "cell_type": "code",
   "execution_count": 174,
   "metadata": {
    "hidden": true
   },
   "outputs": [
    {
     "data": {
      "text/plain": [
       "[<matplotlib.lines.Line2D at 0x22f8a6109b0>]"
      ]
     },
     "execution_count": 174,
     "metadata": {},
     "output_type": "execute_result"
    },
    {
     "data": {
      "image/png": "[encoded data removed]",
      "text/plain": [
       "<matplotlib.figure.Figure at 0x22f8a7e7940>"
      ]
     },
     "metadata": {},
     "output_type": "display_data"
    }
   ],
   "source": [
    "plt.plot(trn_loss)\n",
    "plt.plot(val_loss)"
   ]
  },
  {
   "cell_type": "markdown",
   "metadata": {
    "heading_collapsed": true
   },
   "source": [
    "# ~~LivePlot~~"
   ]
  },
  {
   "cell_type": "code",
   "execution_count": null,
   "metadata": {
    "collapsed": true,
    "hidden": true
   },
   "outputs": [],
   "source": [
    "# class LivePlotNotebook(object):\n",
    "#     \"\"\"\n",
    "#     Live plot using %matplotlib notebook in jupyter notebook\n",
    "    \n",
    "#     Usage:\n",
    "#     ```\n",
    "#     import time\n",
    "#     liveplot = LivePlotNotebook()\n",
    "#     x=np.random.random((10,))\n",
    "#     for i in range(10):\n",
    "#         time.sleep(1)\n",
    "#         liveplot.update(\n",
    "#             x=x+np.random.random(x.shape)/10,\n",
    "#             actions=np.random.randint(0, 3, size=(10,))\n",
    "#         )\n",
    "#     ```\n",
    "    \n",
    "#     url:\n",
    "#     \"\"\"\n",
    "\n",
    "#     def __init__(self):\n",
    "#         %matplotlib notebook\n",
    "#         fig,ax = plt.subplots(1,1)\n",
    "        \n",
    "#         ax.plot([0]*20, label='train')\n",
    "#         ax.plot([0]*20, label='valid')\n",
    "# #         ax.plot([0]*20, [1]*20, 'o', markersize=12,c='gray', label='hold')\n",
    "# #         ax.plot([0]*20, [0]*20, '^', ms=12,c='blue', label='buy' )\n",
    "# #         ax.plot([0]*20, [0]*20, 'v', ms=12,c='red', label='sell')\n",
    "        \n",
    "#         ax.set_xlim(0,1)\n",
    "#         ax.set_ylim(0,1)\n",
    "#         ax.legend()\n",
    "#         ax.set_xlabel('epochs')\n",
    "#         ax.grid()\n",
    "#         ax.set_title('Losses')\n",
    "        \n",
    "#         self.ax = ax\n",
    "#         self.fig = fig\n",
    "\n",
    "#     def update(self, trn_loss, val_loss):             \n",
    "#         # update price\n",
    "#         trn_line = self.ax.lines[0]\n",
    "#         trn_line.set_xdata(range(len(trn_loss)))\n",
    "#         trn_line.set_ydata(trn_loss)\n",
    "        \n",
    "#         val_line = self.ax.lines[1]\n",
    "#         val_line.set_xdata(range(len(val_loss)))\n",
    "#         val_line.set_ydata(val_loss)\n",
    "        \n",
    "#         # update action plots\n",
    "# #         for i, line in enumerate(self.ax.lines[1:]):\n",
    "# #             line.set_xdata(np.argwhere(actions==i).T)\n",
    "# #             line.set_ydata(x[actions==i])\n",
    "\n",
    "#         # update limits\n",
    "#         self.ax.set_xlim(0, len(trn_loss))\n",
    "#         self.ax.set_ylim(min(min(trn_loss),min(val_loss)), max(max(trn_loss),max(val_loss)))\n",
    "\n",
    "#         self.fig.canvas.draw()\n",
    "        \n",
    "# # Test\n",
    "# import time\n",
    "# liveplot = LivePlotNotebook()\n",
    "# x=[1]\n",
    "# x2=[2]\n",
    "# for i in range(10):\n",
    "#     time.sleep(1)\n",
    "#     print(x)\n",
    "#     x.append(random.randint(1,2))\n",
    "#     x2.append(random.randint(1,2))\n",
    "#     liveplot.update(\n",
    "#         trn_loss=x,\n",
    "#         val_loss=x2,\n",
    "#     )"
   ]
  },
  {
   "cell_type": "code",
   "execution_count": null,
   "metadata": {
    "collapsed": true,
    "hidden": true
   },
   "outputs": [],
   "source": []
  }
 ],
 "metadata": {
  "kernelspec": {
   "display_name": "Python 3",
   "language": "python",
   "name": "python3"
  },
  "language_info": {
   "codemirror_mode": {
    "name": "ipython",
    "version": 3
   },
   "file_extension": ".py",
   "mimetype": "text/x-python",
   "name": "python",
   "nbconvert_exporter": "python",
   "pygments_lexer": "ipython3",
   "version": "3.6.3"
  },
  "toc": {
   "base_numbering": 1,
   "nav_menu": {},
   "number_sections": true,
   "sideBar": true,
   "skip_h1_title": false,
   "title_cell": "Table of Contents",
   "title_sidebar": "Contents",
   "toc_cell": false,
   "toc_position": {},
   "toc_section_display": true,
   "toc_window_display": false
  },
  "varInspector": {
   "cols": {
    "lenName": 16,
    "lenType": 16,
    "lenVar": 40
   },
   "kernels_config": {
    "python": {
     "delete_cmd_postfix": "",
     "delete_cmd_prefix": "del ",
     "library": "var_list.py",
     "varRefreshCmd": "print(var_dic_list())"
    },
    "r": {
     "delete_cmd_postfix": ") ",
     "delete_cmd_prefix": "rm(",
     "library": "var_list.r",
     "varRefreshCmd": "cat(var_dic_list()) "
    }
   },
   "types_to_exclude": [
    "module",
    "function",
    "builtin_function_or_method",
    "instance",
    "_Feature"
   ],
   "window_display": false
  }
 },
 "nbformat": 4,
 "nbformat_minor": 2
}
