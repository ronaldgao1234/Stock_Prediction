{
 "cells": [
  {
   "cell_type": "code",
   "execution_count": 12,
   "metadata": {},
   "outputs": [],
   "source": [
    "%reload_ext autoreload\n",
    "%autoreload 2\n",
    "%matplotlib inline"
   ]
  },
  {
   "cell_type": "code",
   "execution_count": 13,
   "metadata": {},
   "outputs": [],
   "source": [
    "%run imports.ipynb"
   ]
  },
  {
   "cell_type": "markdown",
   "metadata": {},
   "source": [
    "# Data Preprocessing"
   ]
  },
  {
   "cell_type": "markdown",
   "metadata": {},
   "source": [
    "## Imports"
   ]
  },
  {
   "cell_type": "code",
   "execution_count": 18,
   "metadata": {},
   "outputs": [],
   "source": [
    "df_trn = pd.read_csv('data/train.csv', encoding='GBK')\n",
    "df_test = pd.read_csv('data/test.csv', encoding='GBK')"
   ]
  },
  {
   "cell_type": "code",
   "execution_count": 20,
   "metadata": {},
   "outputs": [
    {
     "data": {
      "text/html": [
       "<div>\n",
       "<style scoped>\n",
       "    .dataframe tbody tr th:only-of-type {\n",
       "        vertical-align: middle;\n",
       "    }\n",
       "\n",
       "    .dataframe tbody tr th {\n",
       "        vertical-align: top;\n",
       "    }\n",
       "\n",
       "    .dataframe thead th {\n",
       "        text-align: right;\n",
       "    }\n",
       "</style>\n",
       "<table border=\"1\" class=\"dataframe\">\n",
       "  <thead>\n",
       "    <tr style=\"text-align: right;\">\n",
       "      <th></th>\n",
       "      <th>date</th>\n",
       "      <th>open</th>\n",
       "      <th>high</th>\n",
       "      <th>low</th>\n",
       "      <th>close</th>\n",
       "      <th>volume</th>\n",
       "      <th>close_change</th>\n",
       "      <th>volume_change</th>\n",
       "    </tr>\n",
       "  </thead>\n",
       "  <tbody>\n",
       "    <tr>\n",
       "      <th>0</th>\n",
       "      <td>2005-01-04,二</td>\n",
       "      <td>3051.24</td>\n",
       "      <td>3051.24</td>\n",
       "      <td>3016.26</td>\n",
       "      <td>3025.42</td>\n",
       "      <td>435050970</td>\n",
       "      <td>0.000000</td>\n",
       "      <td>0.000000</td>\n",
       "    </tr>\n",
       "    <tr>\n",
       "      <th>1</th>\n",
       "      <td>2005-01-05,三</td>\n",
       "      <td>3020.72</td>\n",
       "      <td>3067.67</td>\n",
       "      <td>3017.34</td>\n",
       "      <td>3052.86</td>\n",
       "      <td>548324450</td>\n",
       "      <td>0.906982</td>\n",
       "      <td>26.036830</td>\n",
       "    </tr>\n",
       "    <tr>\n",
       "      <th>2</th>\n",
       "      <td>2005-01-06,四</td>\n",
       "      <td>3054.10</td>\n",
       "      <td>3054.10</td>\n",
       "      <td>3016.15</td>\n",
       "      <td>3028.73</td>\n",
       "      <td>447629430</td>\n",
       "      <td>-0.790406</td>\n",
       "      <td>-18.364131</td>\n",
       "    </tr>\n",
       "    <tr>\n",
       "      <th>3</th>\n",
       "      <td>2005-01-07,五</td>\n",
       "      <td>3028.69</td>\n",
       "      <td>3065.28</td>\n",
       "      <td>3019.07</td>\n",
       "      <td>3035.59</td>\n",
       "      <td>541592170</td>\n",
       "      <td>0.226498</td>\n",
       "      <td>20.991189</td>\n",
       "    </tr>\n",
       "    <tr>\n",
       "      <th>4</th>\n",
       "      <td>2005-01-10,一</td>\n",
       "      <td>3032.84</td>\n",
       "      <td>3063.66</td>\n",
       "      <td>3018.49</td>\n",
       "      <td>3062.73</td>\n",
       "      <td>482015150</td>\n",
       "      <td>0.894060</td>\n",
       "      <td>-11.000347</td>\n",
       "    </tr>\n",
       "  </tbody>\n",
       "</table>\n",
       "</div>"
      ],
      "text/plain": [
       "           date     open     high      low    close     volume  close_change  \\\n",
       "0  2005-01-04,二  3051.24  3051.24  3016.26  3025.42  435050970      0.000000   \n",
       "1  2005-01-05,三  3020.72  3067.67  3017.34  3052.86  548324450      0.906982   \n",
       "2  2005-01-06,四  3054.10  3054.10  3016.15  3028.73  447629430     -0.790406   \n",
       "3  2005-01-07,五  3028.69  3065.28  3019.07  3035.59  541592170      0.226498   \n",
       "4  2005-01-10,一  3032.84  3063.66  3018.49  3062.73  482015150      0.894060   \n",
       "\n",
       "   volume_change  \n",
       "0       0.000000  \n",
       "1      26.036830  \n",
       "2     -18.364131  \n",
       "3      20.991189  \n",
       "4     -11.000347  "
      ]
     },
     "execution_count": 20,
     "metadata": {},
     "output_type": "execute_result"
    }
   ],
   "source": [
    "df_trn.head()"
   ]
  },
  {
   "cell_type": "code",
   "execution_count": 21,
   "metadata": {},
   "outputs": [
    {
     "data": {
      "text/html": [
       "<div>\n",
       "<style scoped>\n",
       "    .dataframe tbody tr th:only-of-type {\n",
       "        vertical-align: middle;\n",
       "    }\n",
       "\n",
       "    .dataframe tbody tr th {\n",
       "        vertical-align: top;\n",
       "    }\n",
       "\n",
       "    .dataframe thead th {\n",
       "        text-align: right;\n",
       "    }\n",
       "</style>\n",
       "<table border=\"1\" class=\"dataframe\">\n",
       "  <thead>\n",
       "    <tr style=\"text-align: right;\">\n",
       "      <th></th>\n",
       "      <th>date</th>\n",
       "      <th>open</th>\n",
       "      <th>high</th>\n",
       "      <th>low</th>\n",
       "      <th>close</th>\n",
       "      <th>volume</th>\n",
       "      <th>close_change</th>\n",
       "      <th>volume_change</th>\n",
       "    </tr>\n",
       "  </thead>\n",
       "  <tbody>\n",
       "    <tr>\n",
       "      <th>0</th>\n",
       "      <td>2015-07-01,三</td>\n",
       "      <td>14185.10</td>\n",
       "      <td>14696.98</td>\n",
       "      <td>13578.38</td>\n",
       "      <td>13650.82</td>\n",
       "      <td>34874209000</td>\n",
       "      <td>-4.792519</td>\n",
       "      <td>-12.714116</td>\n",
       "    </tr>\n",
       "    <tr>\n",
       "      <th>1</th>\n",
       "      <td>2015-07-02,四</td>\n",
       "      <td>13655.73</td>\n",
       "      <td>13732.49</td>\n",
       "      <td>12727.23</td>\n",
       "      <td>12924.19</td>\n",
       "      <td>32073508000</td>\n",
       "      <td>-5.322977</td>\n",
       "      <td>-8.030866</td>\n",
       "    </tr>\n",
       "    <tr>\n",
       "      <th>2</th>\n",
       "      <td>2015-07-03,五</td>\n",
       "      <td>12475.61</td>\n",
       "      <td>13154.13</td>\n",
       "      <td>11953.08</td>\n",
       "      <td>12246.06</td>\n",
       "      <td>31553617000</td>\n",
       "      <td>-5.246983</td>\n",
       "      <td>-1.620936</td>\n",
       "    </tr>\n",
       "    <tr>\n",
       "      <th>3</th>\n",
       "      <td>2015-07-06,一</td>\n",
       "      <td>13140.14</td>\n",
       "      <td>13140.14</td>\n",
       "      <td>11584.47</td>\n",
       "      <td>12075.77</td>\n",
       "      <td>39633797000</td>\n",
       "      <td>-1.390570</td>\n",
       "      <td>25.607777</td>\n",
       "    </tr>\n",
       "    <tr>\n",
       "      <th>4</th>\n",
       "      <td>2015-07-07,二</td>\n",
       "      <td>11660.56</td>\n",
       "      <td>11767.66</td>\n",
       "      <td>11282.62</td>\n",
       "      <td>11375.60</td>\n",
       "      <td>22732402000</td>\n",
       "      <td>-5.798140</td>\n",
       "      <td>-42.643896</td>\n",
       "    </tr>\n",
       "  </tbody>\n",
       "</table>\n",
       "</div>"
      ],
      "text/plain": [
       "           date      open      high       low     close       volume  \\\n",
       "0  2015-07-01,三  14185.10  14696.98  13578.38  13650.82  34874209000   \n",
       "1  2015-07-02,四  13655.73  13732.49  12727.23  12924.19  32073508000   \n",
       "2  2015-07-03,五  12475.61  13154.13  11953.08  12246.06  31553617000   \n",
       "3  2015-07-06,一  13140.14  13140.14  11584.47  12075.77  39633797000   \n",
       "4  2015-07-07,二  11660.56  11767.66  11282.62  11375.60  22732402000   \n",
       "\n",
       "   close_change  volume_change  \n",
       "0     -4.792519     -12.714116  \n",
       "1     -5.322977      -8.030866  \n",
       "2     -5.246983      -1.620936  \n",
       "3     -1.390570      25.607777  \n",
       "4     -5.798140     -42.643896  "
      ]
     },
     "execution_count": 21,
     "metadata": {},
     "output_type": "execute_result"
    }
   ],
   "source": [
    "df_test.head()"
   ]
  },
  {
   "cell_type": "markdown",
   "metadata": {},
   "source": [
    "1. date - the day of stock trading and the specific hour i'm assuming\n",
    "2. open-high-low-close \n",
    "    - open is the opening price for that stock\n",
    "    - close is the closing price for that stock\n",
    "    - high is the highest price the stock reached\n",
    "    - low is the lowest price the stock reached\n",
    "3. volume - the number of shares or contracts traded in a security or an entire market during a given period. More volume could indicate the power of influence on a given stock\n",
    "4. volume_change - \n",
    "    "
   ]
  }
 ],
 "metadata": {
  "kernelspec": {
   "display_name": "Python 3",
   "language": "python",
   "name": "python3"
  },
  "language_info": {
   "codemirror_mode": {
    "name": "ipython",
    "version": 3
   },
   "file_extension": ".py",
   "mimetype": "text/x-python",
   "name": "python",
   "nbconvert_exporter": "python",
   "pygments_lexer": "ipython3",
   "version": "3.6.6"
  },
  "toc": {
   "base_numbering": 1,
   "nav_menu": {},
   "number_sections": true,
   "sideBar": true,
   "skip_h1_title": false,
   "title_cell": "Table of Contents",
   "title_sidebar": "Contents",
   "toc_cell": false,
   "toc_position": {},
   "toc_section_display": true,
   "toc_window_display": false
  },
  "varInspector": {
   "cols": {
    "lenName": 16,
    "lenType": 16,
    "lenVar": 40
   },
   "kernels_config": {
    "python": {
     "delete_cmd_postfix": "",
     "delete_cmd_prefix": "del ",
     "library": "var_list.py",
     "varRefreshCmd": "print(var_dic_list())"
    },
    "r": {
     "delete_cmd_postfix": ") ",
     "delete_cmd_prefix": "rm(",
     "library": "var_list.r",
     "varRefreshCmd": "cat(var_dic_list()) "
    }
   },
   "types_to_exclude": [
    "module",
    "function",
    "builtin_function_or_method",
    "instance",
    "_Feature"
   ],
   "window_display": false
  }
 },
 "nbformat": 4,
 "nbformat_minor": 2
}
